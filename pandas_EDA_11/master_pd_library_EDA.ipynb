{
 "cells": [
  {
   "cell_type": "markdown",
   "metadata": {},
   "source": [
    "## **Mazeed Pandas kee tips**"
   ]
  },
  {
   "cell_type": "code",
<<<<<<< HEAD
   "execution_count": 1,
=======
   "execution_count": 20,
>>>>>>> edbdef33309c2995c0a4cabcfe51c181ff9d0737
   "metadata": {},
   "outputs": [],
   "source": [
    "# we import the necessry libraries for our project\n",
    "import pandas as pd\n",
    "import seaborn as sns\n",
    "import matplotlib.pyplot as plt\n",
    "import numpy as np"
   ]
  },
  {
   "cell_type": "code",
<<<<<<< HEAD
   "execution_count": 2,
=======
   "execution_count": 21,
>>>>>>> edbdef33309c2995c0a4cabcfe51c181ff9d0737
   "metadata": {},
   "outputs": [
    {
     "data": {
      "application/vnd.microsoft.datawrangler.viewer.v0+json": {
       "columns": [
        {
         "name": "index",
         "rawType": "int64",
         "type": "integer"
        },
        {
         "name": "survived",
         "rawType": "int64",
         "type": "integer"
        },
        {
         "name": "pclass",
         "rawType": "int64",
         "type": "integer"
        },
        {
         "name": "sex",
         "rawType": "object",
         "type": "string"
        },
        {
         "name": "age",
         "rawType": "float64",
         "type": "float"
        },
        {
         "name": "sibsp",
         "rawType": "int64",
         "type": "integer"
        },
        {
         "name": "parch",
         "rawType": "int64",
         "type": "integer"
        },
        {
         "name": "fare",
         "rawType": "float64",
         "type": "float"
        },
        {
         "name": "embarked",
         "rawType": "object",
         "type": "unknown"
        },
        {
         "name": "class",
         "rawType": "category",
         "type": "unknown"
        },
        {
         "name": "who",
         "rawType": "object",
         "type": "string"
        },
        {
         "name": "adult_male",
         "rawType": "bool",
         "type": "boolean"
        },
        {
         "name": "deck",
         "rawType": "category",
         "type": "unknown"
        },
        {
         "name": "embark_town",
         "rawType": "object",
         "type": "unknown"
        },
        {
         "name": "alive",
         "rawType": "object",
         "type": "string"
        },
        {
         "name": "alone",
         "rawType": "bool",
         "type": "boolean"
        }
       ],
       "conversionMethod": "pd.DataFrame",
<<<<<<< HEAD
       "ref": "bb59bba7-6806-4f79-870b-79307bba9d65",
=======
       "ref": "80e1d131-f350-4679-8976-d6f2c3869772",
>>>>>>> edbdef33309c2995c0a4cabcfe51c181ff9d0737
       "rows": [
        [
         "0",
         "0",
         "3",
         "male",
         "22.0",
         "1",
         "0",
         "7.25",
         "S",
         "Third",
         "man",
         "True",
         null,
         "Southampton",
         "no",
         "False"
        ],
        [
         "1",
         "1",
         "1",
         "female",
         "38.0",
         "1",
         "0",
         "71.2833",
         "C",
         "First",
         "woman",
         "False",
         "C",
         "Cherbourg",
         "yes",
         "False"
        ],
        [
         "2",
         "1",
         "3",
         "female",
         "26.0",
         "0",
         "0",
         "7.925",
         "S",
         "Third",
         "woman",
         "False",
         null,
         "Southampton",
         "yes",
         "True"
        ],
        [
         "3",
         "1",
         "1",
         "female",
         "35.0",
         "1",
         "0",
         "53.1",
         "S",
         "First",
         "woman",
         "False",
         "C",
         "Southampton",
         "yes",
         "False"
        ],
        [
         "4",
         "0",
         "3",
         "male",
         "35.0",
         "0",
         "0",
         "8.05",
         "S",
         "Third",
         "man",
         "True",
         null,
         "Southampton",
         "no",
         "True"
        ],
        [
         "5",
         "0",
         "3",
         "male",
         null,
         "0",
         "0",
         "8.4583",
         "Q",
         "Third",
         "man",
         "True",
         null,
         "Queenstown",
         "no",
         "True"
        ],
        [
         "6",
         "0",
         "1",
         "male",
         "54.0",
         "0",
         "0",
         "51.8625",
         "S",
         "First",
         "man",
         "True",
         "E",
         "Southampton",
         "no",
         "True"
        ],
        [
         "7",
         "0",
         "3",
         "male",
         "2.0",
         "3",
         "1",
         "21.075",
         "S",
         "Third",
         "child",
         "False",
         null,
         "Southampton",
         "no",
         "False"
        ],
        [
         "8",
         "1",
         "3",
         "female",
         "27.0",
         "0",
         "2",
         "11.1333",
         "S",
         "Third",
         "woman",
         "False",
         null,
         "Southampton",
         "yes",
         "False"
        ],
        [
         "9",
         "1",
         "2",
         "female",
         "14.0",
         "1",
         "0",
         "30.0708",
         "C",
         "Second",
         "child",
         "False",
         null,
         "Cherbourg",
         "yes",
         "False"
        ],
        [
         "10",
         "1",
         "3",
         "female",
         "4.0",
         "1",
         "1",
         "16.7",
         "S",
         "Third",
         "child",
         "False",
         "G",
         "Southampton",
         "yes",
         "False"
        ],
        [
         "11",
         "1",
         "1",
         "female",
         "58.0",
         "0",
         "0",
         "26.55",
         "S",
         "First",
         "woman",
         "False",
         "C",
         "Southampton",
         "yes",
         "True"
        ],
        [
         "12",
         "0",
         "3",
         "male",
         "20.0",
         "0",
         "0",
         "8.05",
         "S",
         "Third",
         "man",
         "True",
         null,
         "Southampton",
         "no",
         "True"
        ],
        [
         "13",
         "0",
         "3",
         "male",
         "39.0",
         "1",
         "5",
         "31.275",
         "S",
         "Third",
         "man",
         "True",
         null,
         "Southampton",
         "no",
         "False"
        ],
        [
         "14",
         "0",
         "3",
         "female",
         "14.0",
         "0",
         "0",
         "7.8542",
         "S",
         "Third",
         "child",
         "False",
         null,
         "Southampton",
         "no",
         "True"
        ],
        [
         "15",
         "1",
         "2",
         "female",
         "55.0",
         "0",
         "0",
         "16.0",
         "S",
         "Second",
         "woman",
         "False",
         null,
         "Southampton",
         "yes",
         "True"
        ],
        [
         "16",
         "0",
         "3",
         "male",
         "2.0",
         "4",
         "1",
         "29.125",
         "Q",
         "Third",
         "child",
         "False",
         null,
         "Queenstown",
         "no",
         "False"
        ],
        [
         "17",
         "1",
         "2",
         "male",
         null,
         "0",
         "0",
         "13.0",
         "S",
         "Second",
         "man",
         "True",
         null,
         "Southampton",
         "yes",
         "True"
        ],
        [
         "18",
         "0",
         "3",
         "female",
         "31.0",
         "1",
         "0",
         "18.0",
         "S",
         "Third",
         "woman",
         "False",
         null,
         "Southampton",
         "no",
         "False"
        ],
        [
         "19",
         "1",
         "3",
         "female",
         null,
         "0",
         "0",
         "7.225",
         "C",
         "Third",
         "woman",
         "False",
         null,
         "Cherbourg",
         "yes",
         "True"
        ],
        [
         "20",
         "0",
         "2",
         "male",
         "35.0",
         "0",
         "0",
         "26.0",
         "S",
         "Second",
         "man",
         "True",
         null,
         "Southampton",
         "no",
         "True"
        ],
        [
         "21",
         "1",
         "2",
         "male",
         "34.0",
         "0",
         "0",
         "13.0",
         "S",
         "Second",
         "man",
         "True",
         "D",
         "Southampton",
         "yes",
         "True"
        ],
        [
         "22",
         "1",
         "3",
         "female",
         "15.0",
         "0",
         "0",
         "8.0292",
         "Q",
         "Third",
         "child",
         "False",
         null,
         "Queenstown",
         "yes",
         "True"
        ],
        [
         "23",
         "1",
         "1",
         "male",
         "28.0",
         "0",
         "0",
         "35.5",
         "S",
         "First",
         "man",
         "True",
         "A",
         "Southampton",
         "yes",
         "True"
        ],
        [
         "24",
         "0",
         "3",
         "female",
         "8.0",
         "3",
         "1",
         "21.075",
         "S",
         "Third",
         "child",
         "False",
         null,
         "Southampton",
         "no",
         "False"
        ],
        [
         "25",
         "1",
         "3",
         "female",
         "38.0",
         "1",
         "5",
         "31.3875",
         "S",
         "Third",
         "woman",
         "False",
         null,
         "Southampton",
         "yes",
         "False"
        ],
        [
         "26",
         "0",
         "3",
         "male",
         null,
         "0",
         "0",
         "7.225",
         "C",
         "Third",
         "man",
         "True",
         null,
         "Cherbourg",
         "no",
         "True"
        ],
        [
         "27",
         "0",
         "1",
         "male",
         "19.0",
         "3",
         "2",
         "263.0",
         "S",
         "First",
         "man",
         "True",
         "C",
         "Southampton",
         "no",
         "False"
        ],
        [
         "28",
         "1",
         "3",
         "female",
         null,
         "0",
         "0",
         "7.8792",
         "Q",
         "Third",
         "woman",
         "False",
         null,
         "Queenstown",
         "yes",
         "True"
        ],
        [
         "29",
         "0",
         "3",
         "male",
         null,
         "0",
         "0",
         "7.8958",
         "S",
         "Third",
         "man",
         "True",
         null,
         "Southampton",
         "no",
         "True"
        ],
        [
         "30",
         "0",
         "1",
         "male",
         "40.0",
         "0",
         "0",
         "27.7208",
         "C",
         "First",
         "man",
         "True",
         null,
         "Cherbourg",
         "no",
         "True"
        ],
        [
         "31",
         "1",
         "1",
         "female",
         null,
         "1",
         "0",
         "146.5208",
         "C",
         "First",
         "woman",
         "False",
         "B",
         "Cherbourg",
         "yes",
         "False"
        ],
        [
         "32",
         "1",
         "3",
         "female",
         null,
         "0",
         "0",
         "7.75",
         "Q",
         "Third",
         "woman",
         "False",
         null,
         "Queenstown",
         "yes",
         "True"
        ],
        [
         "33",
         "0",
         "2",
         "male",
         "66.0",
         "0",
         "0",
         "10.5",
         "S",
         "Second",
         "man",
         "True",
         null,
         "Southampton",
         "no",
         "True"
        ],
        [
         "34",
         "0",
         "1",
         "male",
         "28.0",
         "1",
         "0",
         "82.1708",
         "C",
         "First",
         "man",
         "True",
         null,
         "Cherbourg",
         "no",
         "False"
        ],
        [
         "35",
         "0",
         "1",
         "male",
         "42.0",
         "1",
         "0",
         "52.0",
         "S",
         "First",
         "man",
         "True",
         null,
         "Southampton",
         "no",
         "False"
        ],
        [
         "36",
         "1",
         "3",
         "male",
         null,
         "0",
         "0",
         "7.2292",
         "C",
         "Third",
         "man",
         "True",
         null,
         "Cherbourg",
         "yes",
         "True"
        ],
        [
         "37",
         "0",
         "3",
         "male",
         "21.0",
         "0",
         "0",
         "8.05",
         "S",
         "Third",
         "man",
         "True",
         null,
         "Southampton",
         "no",
         "True"
        ],
        [
         "38",
         "0",
         "3",
         "female",
         "18.0",
         "2",
         "0",
         "18.0",
         "S",
         "Third",
         "woman",
         "False",
         null,
         "Southampton",
         "no",
         "False"
        ],
        [
         "39",
         "1",
         "3",
         "female",
         "14.0",
         "1",
         "0",
         "11.2417",
         "C",
         "Third",
         "child",
         "False",
         null,
         "Cherbourg",
         "yes",
         "False"
        ],
        [
         "40",
         "0",
         "3",
         "female",
         "40.0",
         "1",
         "0",
         "9.475",
         "S",
         "Third",
         "woman",
         "False",
         null,
         "Southampton",
         "no",
         "False"
        ],
        [
         "41",
         "0",
         "2",
         "female",
         "27.0",
         "1",
         "0",
         "21.0",
         "S",
         "Second",
         "woman",
         "False",
         null,
         "Southampton",
         "no",
         "False"
        ],
        [
         "42",
         "0",
         "3",
         "male",
         null,
         "0",
         "0",
         "7.8958",
         "C",
         "Third",
         "man",
         "True",
         null,
         "Cherbourg",
         "no",
         "True"
        ],
        [
         "43",
         "1",
         "2",
         "female",
         "3.0",
         "1",
         "2",
         "41.5792",
         "C",
         "Second",
         "child",
         "False",
         null,
         "Cherbourg",
         "yes",
         "False"
        ],
        [
         "44",
         "1",
         "3",
         "female",
         "19.0",
         "0",
         "0",
         "7.8792",
         "Q",
         "Third",
         "woman",
         "False",
         null,
         "Queenstown",
         "yes",
         "True"
        ],
        [
         "45",
         "0",
         "3",
         "male",
         null,
         "0",
         "0",
         "8.05",
         "S",
         "Third",
         "man",
         "True",
         null,
         "Southampton",
         "no",
         "True"
        ],
        [
         "46",
         "0",
         "3",
         "male",
         null,
         "1",
         "0",
         "15.5",
         "Q",
         "Third",
         "man",
         "True",
         null,
         "Queenstown",
         "no",
         "False"
        ],
        [
         "47",
         "1",
         "3",
         "female",
         null,
         "0",
         "0",
         "7.75",
         "Q",
         "Third",
         "woman",
         "False",
         null,
         "Queenstown",
         "yes",
         "True"
        ],
        [
         "48",
         "0",
         "3",
         "male",
         null,
         "2",
         "0",
         "21.6792",
         "C",
         "Third",
         "man",
         "True",
         null,
         "Cherbourg",
         "no",
         "False"
        ],
        [
         "49",
         "0",
         "3",
         "female",
         "18.0",
         "1",
         "0",
         "17.8",
         "S",
         "Third",
         "woman",
         "False",
         null,
         "Southampton",
         "no",
         "False"
        ]
       ],
       "shape": {
        "columns": 15,
        "rows": 891
       }
      },
      "text/html": [
       "<div>\n",
       "<style scoped>\n",
       "    .dataframe tbody tr th:only-of-type {\n",
       "        vertical-align: middle;\n",
       "    }\n",
       "\n",
       "    .dataframe tbody tr th {\n",
       "        vertical-align: top;\n",
       "    }\n",
       "\n",
       "    .dataframe thead th {\n",
       "        text-align: right;\n",
       "    }\n",
       "</style>\n",
       "<table border=\"1\" class=\"dataframe\">\n",
       "  <thead>\n",
       "    <tr style=\"text-align: right;\">\n",
       "      <th></th>\n",
       "      <th>survived</th>\n",
       "      <th>pclass</th>\n",
       "      <th>sex</th>\n",
       "      <th>age</th>\n",
       "      <th>sibsp</th>\n",
       "      <th>parch</th>\n",
       "      <th>fare</th>\n",
       "      <th>embarked</th>\n",
       "      <th>class</th>\n",
       "      <th>who</th>\n",
       "      <th>adult_male</th>\n",
       "      <th>deck</th>\n",
       "      <th>embark_town</th>\n",
       "      <th>alive</th>\n",
       "      <th>alone</th>\n",
       "    </tr>\n",
       "  </thead>\n",
       "  <tbody>\n",
       "    <tr>\n",
       "      <th>0</th>\n",
       "      <td>0</td>\n",
       "      <td>3</td>\n",
       "      <td>male</td>\n",
       "      <td>22.0</td>\n",
       "      <td>1</td>\n",
       "      <td>0</td>\n",
       "      <td>7.2500</td>\n",
       "      <td>S</td>\n",
       "      <td>Third</td>\n",
       "      <td>man</td>\n",
       "      <td>True</td>\n",
       "      <td>NaN</td>\n",
       "      <td>Southampton</td>\n",
       "      <td>no</td>\n",
       "      <td>False</td>\n",
       "    </tr>\n",
       "    <tr>\n",
       "      <th>1</th>\n",
       "      <td>1</td>\n",
       "      <td>1</td>\n",
       "      <td>female</td>\n",
       "      <td>38.0</td>\n",
       "      <td>1</td>\n",
       "      <td>0</td>\n",
       "      <td>71.2833</td>\n",
       "      <td>C</td>\n",
       "      <td>First</td>\n",
       "      <td>woman</td>\n",
       "      <td>False</td>\n",
       "      <td>C</td>\n",
       "      <td>Cherbourg</td>\n",
       "      <td>yes</td>\n",
       "      <td>False</td>\n",
       "    </tr>\n",
       "    <tr>\n",
       "      <th>2</th>\n",
       "      <td>1</td>\n",
       "      <td>3</td>\n",
       "      <td>female</td>\n",
       "      <td>26.0</td>\n",
       "      <td>0</td>\n",
       "      <td>0</td>\n",
       "      <td>7.9250</td>\n",
       "      <td>S</td>\n",
       "      <td>Third</td>\n",
       "      <td>woman</td>\n",
       "      <td>False</td>\n",
       "      <td>NaN</td>\n",
       "      <td>Southampton</td>\n",
       "      <td>yes</td>\n",
       "      <td>True</td>\n",
       "    </tr>\n",
       "    <tr>\n",
       "      <th>3</th>\n",
       "      <td>1</td>\n",
       "      <td>1</td>\n",
       "      <td>female</td>\n",
       "      <td>35.0</td>\n",
       "      <td>1</td>\n",
       "      <td>0</td>\n",
       "      <td>53.1000</td>\n",
       "      <td>S</td>\n",
       "      <td>First</td>\n",
       "      <td>woman</td>\n",
       "      <td>False</td>\n",
       "      <td>C</td>\n",
       "      <td>Southampton</td>\n",
       "      <td>yes</td>\n",
       "      <td>False</td>\n",
       "    </tr>\n",
       "    <tr>\n",
       "      <th>4</th>\n",
       "      <td>0</td>\n",
       "      <td>3</td>\n",
       "      <td>male</td>\n",
       "      <td>35.0</td>\n",
       "      <td>0</td>\n",
       "      <td>0</td>\n",
       "      <td>8.0500</td>\n",
       "      <td>S</td>\n",
       "      <td>Third</td>\n",
       "      <td>man</td>\n",
       "      <td>True</td>\n",
       "      <td>NaN</td>\n",
       "      <td>Southampton</td>\n",
       "      <td>no</td>\n",
       "      <td>True</td>\n",
       "    </tr>\n",
       "    <tr>\n",
       "      <th>...</th>\n",
       "      <td>...</td>\n",
       "      <td>...</td>\n",
       "      <td>...</td>\n",
       "      <td>...</td>\n",
       "      <td>...</td>\n",
       "      <td>...</td>\n",
       "      <td>...</td>\n",
       "      <td>...</td>\n",
       "      <td>...</td>\n",
       "      <td>...</td>\n",
       "      <td>...</td>\n",
       "      <td>...</td>\n",
       "      <td>...</td>\n",
       "      <td>...</td>\n",
       "      <td>...</td>\n",
       "    </tr>\n",
       "    <tr>\n",
       "      <th>886</th>\n",
       "      <td>0</td>\n",
       "      <td>2</td>\n",
       "      <td>male</td>\n",
       "      <td>27.0</td>\n",
       "      <td>0</td>\n",
       "      <td>0</td>\n",
       "      <td>13.0000</td>\n",
       "      <td>S</td>\n",
       "      <td>Second</td>\n",
       "      <td>man</td>\n",
       "      <td>True</td>\n",
       "      <td>NaN</td>\n",
       "      <td>Southampton</td>\n",
       "      <td>no</td>\n",
       "      <td>True</td>\n",
       "    </tr>\n",
       "    <tr>\n",
       "      <th>887</th>\n",
       "      <td>1</td>\n",
       "      <td>1</td>\n",
       "      <td>female</td>\n",
       "      <td>19.0</td>\n",
       "      <td>0</td>\n",
       "      <td>0</td>\n",
       "      <td>30.0000</td>\n",
       "      <td>S</td>\n",
       "      <td>First</td>\n",
       "      <td>woman</td>\n",
       "      <td>False</td>\n",
       "      <td>B</td>\n",
       "      <td>Southampton</td>\n",
       "      <td>yes</td>\n",
       "      <td>True</td>\n",
       "    </tr>\n",
       "    <tr>\n",
       "      <th>888</th>\n",
       "      <td>0</td>\n",
       "      <td>3</td>\n",
       "      <td>female</td>\n",
       "      <td>NaN</td>\n",
       "      <td>1</td>\n",
       "      <td>2</td>\n",
       "      <td>23.4500</td>\n",
       "      <td>S</td>\n",
       "      <td>Third</td>\n",
       "      <td>woman</td>\n",
       "      <td>False</td>\n",
       "      <td>NaN</td>\n",
       "      <td>Southampton</td>\n",
       "      <td>no</td>\n",
       "      <td>False</td>\n",
       "    </tr>\n",
       "    <tr>\n",
       "      <th>889</th>\n",
       "      <td>1</td>\n",
       "      <td>1</td>\n",
       "      <td>male</td>\n",
       "      <td>26.0</td>\n",
       "      <td>0</td>\n",
       "      <td>0</td>\n",
       "      <td>30.0000</td>\n",
       "      <td>C</td>\n",
       "      <td>First</td>\n",
       "      <td>man</td>\n",
       "      <td>True</td>\n",
       "      <td>C</td>\n",
       "      <td>Cherbourg</td>\n",
       "      <td>yes</td>\n",
       "      <td>True</td>\n",
       "    </tr>\n",
       "    <tr>\n",
       "      <th>890</th>\n",
       "      <td>0</td>\n",
       "      <td>3</td>\n",
       "      <td>male</td>\n",
       "      <td>32.0</td>\n",
       "      <td>0</td>\n",
       "      <td>0</td>\n",
       "      <td>7.7500</td>\n",
       "      <td>Q</td>\n",
       "      <td>Third</td>\n",
       "      <td>man</td>\n",
       "      <td>True</td>\n",
       "      <td>NaN</td>\n",
       "      <td>Queenstown</td>\n",
       "      <td>no</td>\n",
       "      <td>True</td>\n",
       "    </tr>\n",
       "  </tbody>\n",
       "</table>\n",
       "<p>891 rows × 15 columns</p>\n",
       "</div>"
      ],
      "text/plain": [
       "     survived  pclass     sex   age  sibsp  parch     fare embarked   class  \\\n",
       "0           0       3    male  22.0      1      0   7.2500        S   Third   \n",
       "1           1       1  female  38.0      1      0  71.2833        C   First   \n",
       "2           1       3  female  26.0      0      0   7.9250        S   Third   \n",
       "3           1       1  female  35.0      1      0  53.1000        S   First   \n",
       "4           0       3    male  35.0      0      0   8.0500        S   Third   \n",
       "..        ...     ...     ...   ...    ...    ...      ...      ...     ...   \n",
       "886         0       2    male  27.0      0      0  13.0000        S  Second   \n",
       "887         1       1  female  19.0      0      0  30.0000        S   First   \n",
       "888         0       3  female   NaN      1      2  23.4500        S   Third   \n",
       "889         1       1    male  26.0      0      0  30.0000        C   First   \n",
       "890         0       3    male  32.0      0      0   7.7500        Q   Third   \n",
       "\n",
       "       who  adult_male deck  embark_town alive  alone  \n",
       "0      man        True  NaN  Southampton    no  False  \n",
       "1    woman       False    C    Cherbourg   yes  False  \n",
       "2    woman       False  NaN  Southampton   yes   True  \n",
       "3    woman       False    C  Southampton   yes  False  \n",
       "4      man        True  NaN  Southampton    no   True  \n",
       "..     ...         ...  ...          ...   ...    ...  \n",
       "886    man        True  NaN  Southampton    no   True  \n",
       "887  woman       False    B  Southampton   yes   True  \n",
       "888  woman       False  NaN  Southampton    no  False  \n",
       "889    man        True    C    Cherbourg   yes   True  \n",
       "890    man        True  NaN   Queenstown    no   True  \n",
       "\n",
       "[891 rows x 15 columns]"
      ]
     },
<<<<<<< HEAD
     "execution_count": 2,
=======
     "execution_count": 21,
>>>>>>> edbdef33309c2995c0a4cabcfe51c181ff9d0737
     "metadata": {},
     "output_type": "execute_result"
    }
   ],
   "source": [
    "# we simply load the built in datasets of the titanic in the notebook \n",
    "df=sns.load_dataset(\"titanic\")\n",
    "df"
   ]
  },
  {
   "cell_type": "code",
   "execution_count": 22,
   "metadata": {},
   "outputs": [
    {
     "data": {
      "application/vnd.microsoft.datawrangler.viewer.v0+json": {
       "columns": [
        {
         "name": "index",
         "rawType": "int64",
         "type": "integer"
        },
        {
         "name": "survived",
         "rawType": "int64",
         "type": "integer"
        },
        {
         "name": "pclass",
         "rawType": "int64",
         "type": "integer"
        },
        {
         "name": "sex",
         "rawType": "object",
         "type": "string"
        },
        {
         "name": "age",
         "rawType": "float64",
         "type": "float"
        },
        {
         "name": "sibsp",
         "rawType": "int64",
         "type": "integer"
        },
        {
         "name": "parch",
         "rawType": "int64",
         "type": "integer"
        },
        {
         "name": "fare",
         "rawType": "float64",
         "type": "float"
        },
        {
         "name": "embarked",
         "rawType": "object",
         "type": "string"
        },
        {
         "name": "class",
         "rawType": "category",
         "type": "unknown"
        },
        {
         "name": "who",
         "rawType": "object",
         "type": "string"
        },
        {
         "name": "adult_male",
         "rawType": "bool",
         "type": "boolean"
        },
        {
         "name": "deck",
         "rawType": "category",
         "type": "unknown"
        },
        {
         "name": "embark_town",
         "rawType": "object",
         "type": "string"
        },
        {
         "name": "alive",
         "rawType": "object",
         "type": "string"
        },
        {
         "name": "alone",
         "rawType": "bool",
         "type": "boolean"
        }
       ],
       "conversionMethod": "pd.DataFrame",
       "ref": "c85788e6-dbce-420c-bab9-aaf12af77c1e",
       "rows": [
        [
         "0",
         "0",
         "3",
         "male",
         "22.0",
         "1",
         "0",
         "7.25",
         "S",
         "Third",
         "man",
         "True",
         null,
         "Southampton",
         "no",
         "False"
        ],
        [
         "1",
         "1",
         "1",
         "female",
         "38.0",
         "1",
         "0",
         "71.2833",
         "C",
         "First",
         "woman",
         "False",
         "C",
         "Cherbourg",
         "yes",
         "False"
        ],
        [
         "2",
         "1",
         "3",
         "female",
         "26.0",
         "0",
         "0",
         "7.925",
         "S",
         "Third",
         "woman",
         "False",
         null,
         "Southampton",
         "yes",
         "True"
        ],
        [
         "3",
         "1",
         "1",
         "female",
         "35.0",
         "1",
         "0",
         "53.1",
         "S",
         "First",
         "woman",
         "False",
         "C",
         "Southampton",
         "yes",
         "False"
        ],
        [
         "4",
         "0",
         "3",
         "male",
         "35.0",
         "0",
         "0",
         "8.05",
         "S",
         "Third",
         "man",
         "True",
         null,
         "Southampton",
         "no",
         "True"
        ]
       ],
       "shape": {
        "columns": 15,
        "rows": 5
       }
      },
      "text/html": [
       "<div>\n",
       "<style scoped>\n",
       "    .dataframe tbody tr th:only-of-type {\n",
       "        vertical-align: middle;\n",
       "    }\n",
       "\n",
       "    .dataframe tbody tr th {\n",
       "        vertical-align: top;\n",
       "    }\n",
       "\n",
       "    .dataframe thead th {\n",
       "        text-align: right;\n",
       "    }\n",
       "</style>\n",
       "<table border=\"1\" class=\"dataframe\">\n",
       "  <thead>\n",
       "    <tr style=\"text-align: right;\">\n",
       "      <th></th>\n",
       "      <th>survived</th>\n",
       "      <th>pclass</th>\n",
       "      <th>sex</th>\n",
       "      <th>age</th>\n",
       "      <th>sibsp</th>\n",
       "      <th>parch</th>\n",
       "      <th>fare</th>\n",
       "      <th>embarked</th>\n",
       "      <th>class</th>\n",
       "      <th>who</th>\n",
       "      <th>adult_male</th>\n",
       "      <th>deck</th>\n",
       "      <th>embark_town</th>\n",
       "      <th>alive</th>\n",
       "      <th>alone</th>\n",
       "    </tr>\n",
       "  </thead>\n",
       "  <tbody>\n",
       "    <tr>\n",
       "      <th>0</th>\n",
       "      <td>0</td>\n",
       "      <td>3</td>\n",
       "      <td>male</td>\n",
       "      <td>22.0</td>\n",
       "      <td>1</td>\n",
       "      <td>0</td>\n",
       "      <td>7.2500</td>\n",
       "      <td>S</td>\n",
       "      <td>Third</td>\n",
       "      <td>man</td>\n",
       "      <td>True</td>\n",
       "      <td>NaN</td>\n",
       "      <td>Southampton</td>\n",
       "      <td>no</td>\n",
       "      <td>False</td>\n",
       "    </tr>\n",
       "    <tr>\n",
       "      <th>1</th>\n",
       "      <td>1</td>\n",
       "      <td>1</td>\n",
       "      <td>female</td>\n",
       "      <td>38.0</td>\n",
       "      <td>1</td>\n",
       "      <td>0</td>\n",
       "      <td>71.2833</td>\n",
       "      <td>C</td>\n",
       "      <td>First</td>\n",
       "      <td>woman</td>\n",
       "      <td>False</td>\n",
       "      <td>C</td>\n",
       "      <td>Cherbourg</td>\n",
       "      <td>yes</td>\n",
       "      <td>False</td>\n",
       "    </tr>\n",
       "    <tr>\n",
       "      <th>2</th>\n",
       "      <td>1</td>\n",
       "      <td>3</td>\n",
       "      <td>female</td>\n",
       "      <td>26.0</td>\n",
       "      <td>0</td>\n",
       "      <td>0</td>\n",
       "      <td>7.9250</td>\n",
       "      <td>S</td>\n",
       "      <td>Third</td>\n",
       "      <td>woman</td>\n",
       "      <td>False</td>\n",
       "      <td>NaN</td>\n",
       "      <td>Southampton</td>\n",
       "      <td>yes</td>\n",
       "      <td>True</td>\n",
       "    </tr>\n",
       "    <tr>\n",
       "      <th>3</th>\n",
       "      <td>1</td>\n",
       "      <td>1</td>\n",
       "      <td>female</td>\n",
       "      <td>35.0</td>\n",
       "      <td>1</td>\n",
       "      <td>0</td>\n",
       "      <td>53.1000</td>\n",
       "      <td>S</td>\n",
       "      <td>First</td>\n",
       "      <td>woman</td>\n",
       "      <td>False</td>\n",
       "      <td>C</td>\n",
       "      <td>Southampton</td>\n",
       "      <td>yes</td>\n",
       "      <td>False</td>\n",
       "    </tr>\n",
       "    <tr>\n",
       "      <th>4</th>\n",
       "      <td>0</td>\n",
       "      <td>3</td>\n",
       "      <td>male</td>\n",
       "      <td>35.0</td>\n",
       "      <td>0</td>\n",
       "      <td>0</td>\n",
       "      <td>8.0500</td>\n",
       "      <td>S</td>\n",
       "      <td>Third</td>\n",
       "      <td>man</td>\n",
       "      <td>True</td>\n",
       "      <td>NaN</td>\n",
       "      <td>Southampton</td>\n",
       "      <td>no</td>\n",
       "      <td>True</td>\n",
       "    </tr>\n",
       "  </tbody>\n",
       "</table>\n",
       "</div>"
      ],
      "text/plain": [
       "   survived  pclass     sex   age  sibsp  parch     fare embarked  class  \\\n",
       "0         0       3    male  22.0      1      0   7.2500        S  Third   \n",
       "1         1       1  female  38.0      1      0  71.2833        C  First   \n",
       "2         1       3  female  26.0      0      0   7.9250        S  Third   \n",
       "3         1       1  female  35.0      1      0  53.1000        S  First   \n",
       "4         0       3    male  35.0      0      0   8.0500        S  Third   \n",
       "\n",
       "     who  adult_male deck  embark_town alive  alone  \n",
       "0    man        True  NaN  Southampton    no  False  \n",
       "1  woman       False    C    Cherbourg   yes  False  \n",
       "2  woman       False  NaN  Southampton   yes   True  \n",
       "3  woman       False    C  Southampton   yes  False  \n",
       "4    man        True  NaN  Southampton    no   True  "
      ]
     },
     "execution_count": 22,
     "metadata": {},
     "output_type": "execute_result"
    }
   ],
   "source": [
    "df.head()"
   ]
  },
  {
   "cell_type": "code",
   "execution_count": 23,
   "metadata": {},
   "outputs": [
    {
     "data": {
      "text/plain": [
       "survived        0.000000\n",
       "pclass          0.000000\n",
       "sex             0.000000\n",
       "age            19.865320\n",
       "sibsp           0.000000\n",
       "parch           0.000000\n",
       "fare            0.000000\n",
       "embarked        0.224467\n",
       "class           0.000000\n",
       "who             0.000000\n",
       "adult_male      0.000000\n",
       "deck           77.216611\n",
       "embark_town     0.224467\n",
       "alive           0.000000\n",
       "alone           0.000000\n",
       "dtype: float64"
      ]
     },
     "execution_count": 23,
     "metadata": {},
     "output_type": "execute_result"
    }
   ],
   "source": [
    "# now we find the percentage of the missing values in the dataset of the titianic\n",
    "df.isnull().sum()/len(df)*100"
   ]
  },
  {
   "cell_type": "markdown",
   "metadata": {},
   "source": [
    "## 1- Drop the deck column for the titanic dataset as it has 77% of the dataset"
   ]
  },
  {
   "cell_type": "code",
   "execution_count": 24,
   "metadata": {},
   "outputs": [
    {
     "data": {
      "application/vnd.microsoft.datawrangler.viewer.v0+json": {
       "columns": [
        {
         "name": "index",
         "rawType": "int64",
         "type": "integer"
        },
        {
         "name": "survived",
         "rawType": "int64",
         "type": "integer"
        },
        {
         "name": "pclass",
         "rawType": "int64",
         "type": "integer"
        },
        {
         "name": "sex",
         "rawType": "object",
         "type": "string"
        },
        {
         "name": "age",
         "rawType": "float64",
         "type": "float"
        },
        {
         "name": "sibsp",
         "rawType": "int64",
         "type": "integer"
        },
        {
         "name": "parch",
         "rawType": "int64",
         "type": "integer"
        },
        {
         "name": "fare",
         "rawType": "float64",
         "type": "float"
        },
        {
         "name": "embarked",
         "rawType": "object",
         "type": "string"
        },
        {
         "name": "class",
         "rawType": "category",
         "type": "unknown"
        },
        {
         "name": "who",
         "rawType": "object",
         "type": "string"
        },
        {
         "name": "adult_male",
         "rawType": "bool",
         "type": "boolean"
        },
        {
         "name": "embark_town",
         "rawType": "object",
         "type": "string"
        },
        {
         "name": "alive",
         "rawType": "object",
         "type": "string"
        },
        {
         "name": "alone",
         "rawType": "bool",
         "type": "boolean"
        }
       ],
       "conversionMethod": "pd.DataFrame",
       "ref": "0d6f480e-504a-467d-9aa9-a45db947cf99",
       "rows": [
        [
         "0",
         "0",
         "3",
         "male",
         "22.0",
         "1",
         "0",
         "7.25",
         "S",
         "Third",
         "man",
         "True",
         "Southampton",
         "no",
         "False"
        ],
        [
         "1",
         "1",
         "1",
         "female",
         "38.0",
         "1",
         "0",
         "71.2833",
         "C",
         "First",
         "woman",
         "False",
         "Cherbourg",
         "yes",
         "False"
        ],
        [
         "2",
         "1",
         "3",
         "female",
         "26.0",
         "0",
         "0",
         "7.925",
         "S",
         "Third",
         "woman",
         "False",
         "Southampton",
         "yes",
         "True"
        ],
        [
         "3",
         "1",
         "1",
         "female",
         "35.0",
         "1",
         "0",
         "53.1",
         "S",
         "First",
         "woman",
         "False",
         "Southampton",
         "yes",
         "False"
        ],
        [
         "4",
         "0",
         "3",
         "male",
         "35.0",
         "0",
         "0",
         "8.05",
         "S",
         "Third",
         "man",
         "True",
         "Southampton",
         "no",
         "True"
        ]
       ],
       "shape": {
        "columns": 14,
        "rows": 5
       }
      },
      "text/html": [
       "<div>\n",
       "<style scoped>\n",
       "    .dataframe tbody tr th:only-of-type {\n",
       "        vertical-align: middle;\n",
       "    }\n",
       "\n",
       "    .dataframe tbody tr th {\n",
       "        vertical-align: top;\n",
       "    }\n",
       "\n",
       "    .dataframe thead th {\n",
       "        text-align: right;\n",
       "    }\n",
       "</style>\n",
       "<table border=\"1\" class=\"dataframe\">\n",
       "  <thead>\n",
       "    <tr style=\"text-align: right;\">\n",
       "      <th></th>\n",
       "      <th>survived</th>\n",
       "      <th>pclass</th>\n",
       "      <th>sex</th>\n",
       "      <th>age</th>\n",
       "      <th>sibsp</th>\n",
       "      <th>parch</th>\n",
       "      <th>fare</th>\n",
       "      <th>embarked</th>\n",
       "      <th>class</th>\n",
       "      <th>who</th>\n",
       "      <th>adult_male</th>\n",
       "      <th>embark_town</th>\n",
       "      <th>alive</th>\n",
       "      <th>alone</th>\n",
       "    </tr>\n",
       "  </thead>\n",
       "  <tbody>\n",
       "    <tr>\n",
       "      <th>0</th>\n",
       "      <td>0</td>\n",
       "      <td>3</td>\n",
       "      <td>male</td>\n",
       "      <td>22.0</td>\n",
       "      <td>1</td>\n",
       "      <td>0</td>\n",
       "      <td>7.2500</td>\n",
       "      <td>S</td>\n",
       "      <td>Third</td>\n",
       "      <td>man</td>\n",
       "      <td>True</td>\n",
       "      <td>Southampton</td>\n",
       "      <td>no</td>\n",
       "      <td>False</td>\n",
       "    </tr>\n",
       "    <tr>\n",
       "      <th>1</th>\n",
       "      <td>1</td>\n",
       "      <td>1</td>\n",
       "      <td>female</td>\n",
       "      <td>38.0</td>\n",
       "      <td>1</td>\n",
       "      <td>0</td>\n",
       "      <td>71.2833</td>\n",
       "      <td>C</td>\n",
       "      <td>First</td>\n",
       "      <td>woman</td>\n",
       "      <td>False</td>\n",
       "      <td>Cherbourg</td>\n",
       "      <td>yes</td>\n",
       "      <td>False</td>\n",
       "    </tr>\n",
       "    <tr>\n",
       "      <th>2</th>\n",
       "      <td>1</td>\n",
       "      <td>3</td>\n",
       "      <td>female</td>\n",
       "      <td>26.0</td>\n",
       "      <td>0</td>\n",
       "      <td>0</td>\n",
       "      <td>7.9250</td>\n",
       "      <td>S</td>\n",
       "      <td>Third</td>\n",
       "      <td>woman</td>\n",
       "      <td>False</td>\n",
       "      <td>Southampton</td>\n",
       "      <td>yes</td>\n",
       "      <td>True</td>\n",
       "    </tr>\n",
       "    <tr>\n",
       "      <th>3</th>\n",
       "      <td>1</td>\n",
       "      <td>1</td>\n",
       "      <td>female</td>\n",
       "      <td>35.0</td>\n",
       "      <td>1</td>\n",
       "      <td>0</td>\n",
       "      <td>53.1000</td>\n",
       "      <td>S</td>\n",
       "      <td>First</td>\n",
       "      <td>woman</td>\n",
       "      <td>False</td>\n",
       "      <td>Southampton</td>\n",
       "      <td>yes</td>\n",
       "      <td>False</td>\n",
       "    </tr>\n",
       "    <tr>\n",
       "      <th>4</th>\n",
       "      <td>0</td>\n",
       "      <td>3</td>\n",
       "      <td>male</td>\n",
       "      <td>35.0</td>\n",
       "      <td>0</td>\n",
       "      <td>0</td>\n",
       "      <td>8.0500</td>\n",
       "      <td>S</td>\n",
       "      <td>Third</td>\n",
       "      <td>man</td>\n",
       "      <td>True</td>\n",
       "      <td>Southampton</td>\n",
       "      <td>no</td>\n",
       "      <td>True</td>\n",
       "    </tr>\n",
       "  </tbody>\n",
       "</table>\n",
       "</div>"
      ],
      "text/plain": [
       "   survived  pclass     sex   age  sibsp  parch     fare embarked  class  \\\n",
       "0         0       3    male  22.0      1      0   7.2500        S  Third   \n",
       "1         1       1  female  38.0      1      0  71.2833        C  First   \n",
       "2         1       3  female  26.0      0      0   7.9250        S  Third   \n",
       "3         1       1  female  35.0      1      0  53.1000        S  First   \n",
       "4         0       3    male  35.0      0      0   8.0500        S  Third   \n",
       "\n",
       "     who  adult_male  embark_town alive  alone  \n",
       "0    man        True  Southampton    no  False  \n",
       "1  woman       False    Cherbourg   yes  False  \n",
       "2  woman       False  Southampton   yes   True  \n",
       "3  woman       False  Southampton   yes  False  \n",
       "4    man        True  Southampton    no   True  "
      ]
     },
     "execution_count": 24,
     "metadata": {},
     "output_type": "execute_result"
    }
   ],
   "source": [
    "df.drop(\"deck\",axis=1,inplace=True)\n",
    "df.head()"
   ]
  },
  {
   "cell_type": "markdown",
   "metadata": {},
   "source": [
    "## 2- Filling of the missing values in the colomns of the dataset "
   ]
  },
  {
   "cell_type": "code",
   "execution_count": 25,
   "metadata": {},
   "outputs": [
    {
     "data": {
      "text/plain": [
       "survived         0\n",
       "pclass           0\n",
       "sex              0\n",
       "age            177\n",
       "sibsp            0\n",
       "parch            0\n",
       "fare             0\n",
       "embarked         2\n",
       "class            0\n",
       "who              0\n",
       "adult_male       0\n",
       "embark_town      2\n",
       "alive            0\n",
       "alone            0\n",
       "dtype: int64"
      ]
     },
     "execution_count": 25,
     "metadata": {},
     "output_type": "execute_result"
    }
   ],
   "source": [
    "df.isnull().sum()                   # number of the missing values in the colomns of the titanic dataset"
   ]
  },
  {
   "cell_type": "code",
   "execution_count": 26,
   "metadata": {},
   "outputs": [
    {
     "data": {
      "text/plain": [
       "Index(['survived', 'pclass', 'sex', 'age', 'sibsp', 'parch', 'fare',\n",
       "       'embarked', 'class', 'who', 'adult_male', 'embark_town', 'alive',\n",
       "       'alone'],\n",
       "      dtype='object')"
      ]
     },
     "execution_count": 26,
     "metadata": {},
     "output_type": "execute_result"
    }
   ],
   "source": [
    "df.columns                      # name of the columns of the titanic dataset"
   ]
  },
  {
   "cell_type": "code",
   "execution_count": 27,
   "metadata": {},
   "outputs": [
    {
     "data": {
      "text/plain": [
       "np.float64(29.69911764705882)"
      ]
     },
     "execution_count": 27,
     "metadata": {},
     "output_type": "execute_result"
    }
   ],
   "source": [
    "df['age'].mean()"
   ]
  },
  {
   "cell_type": "code",
   "execution_count": 28,
   "metadata": {},
   "outputs": [
    {
     "name": "stderr",
     "output_type": "stream",
     "text": [
      "C:\\Users\\Admin\\AppData\\Local\\Temp\\ipykernel_8520\\4069995058.py:1: FutureWarning: A value is trying to be set on a copy of a DataFrame or Series through chained assignment using an inplace method.\n",
      "The behavior will change in pandas 3.0. This inplace method will never work because the intermediate object on which we are setting values always behaves as a copy.\n",
      "\n",
      "For example, when doing 'df[col].method(value, inplace=True)', try using 'df.method({col: value}, inplace=True)' or df[col] = df[col].method(value) instead, to perform the operation inplace on the original object.\n",
      "\n",
      "\n",
      "  df.age.fillna(df[\"age\"].mean(),inplace=True)\n"
     ]
    }
   ],
   "source": [
    "df.age.fillna(df[\"age\"].mean(),inplace=True)"
   ]
  },
  {
   "cell_type": "code",
   "execution_count": 29,
   "metadata": {},
   "outputs": [
    {
     "name": "stderr",
     "output_type": "stream",
     "text": [
      "C:\\Users\\Admin\\AppData\\Local\\Temp\\ipykernel_8520\\2248994633.py:2: FutureWarning: A value is trying to be set on a copy of a DataFrame or Series through chained assignment using an inplace method.\n",
      "The behavior will change in pandas 3.0. This inplace method will never work because the intermediate object on which we are setting values always behaves as a copy.\n",
      "\n",
      "For example, when doing 'df[col].method(value, inplace=True)', try using 'df.method({col: value}, inplace=True)' or df[col] = df[col].method(value) instead, to perform the operation inplace on the original object.\n",
      "\n",
      "\n",
      "  df.embarked.fillna(df.embarked.mode()[0],inplace=True)\n",
      "C:\\Users\\Admin\\AppData\\Local\\Temp\\ipykernel_8520\\2248994633.py:3: FutureWarning: A value is trying to be set on a copy of a DataFrame or Series through chained assignment using an inplace method.\n",
      "The behavior will change in pandas 3.0. This inplace method will never work because the intermediate object on which we are setting values always behaves as a copy.\n",
      "\n",
      "For example, when doing 'df[col].method(value, inplace=True)', try using 'df.method({col: value}, inplace=True)' or df[col] = df[col].method(value) instead, to perform the operation inplace on the original object.\n",
      "\n",
      "\n",
      "  df.embark_town.fillna(df.embark_town.mode()[0],inplace=True)\n"
     ]
    }
   ],
   "source": [
    "# now we replace the missing values of the embarked colomn and the embarked_town colomn with the mode in the titanic dataset\n",
    "df.embarked.fillna(df.embarked.mode()[0],inplace=True)\n",
    "df.embark_town.fillna(df.embark_town.mode()[0],inplace=True)"
   ]
  },
  {
   "cell_type": "code",
   "execution_count": 30,
   "metadata": {},
   "outputs": [
    {
     "data": {
      "text/plain": [
       "survived       0\n",
       "pclass         0\n",
       "sex            0\n",
       "age            0\n",
       "sibsp          0\n",
       "parch          0\n",
       "fare           0\n",
       "embarked       0\n",
       "class          0\n",
       "who            0\n",
       "adult_male     0\n",
       "embark_town    0\n",
       "alive          0\n",
       "alone          0\n",
       "dtype: int64"
      ]
     },
     "execution_count": 30,
     "metadata": {},
     "output_type": "execute_result"
    }
   ],
   "source": [
    "df.isnull().sum()"
   ]
  },
  {
   "cell_type": "code",
   "execution_count": 31,
   "metadata": {},
   "outputs": [
    {
     "data": {
      "text/plain": [
       "<Axes: >"
      ]
     },
     "execution_count": 31,
     "metadata": {},
     "output_type": "execute_result"
    },
    {
     "data": {
      "image/png": "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",
      "text/plain": [
       "<Figure size 640x480 with 2 Axes>"
      ]
     },
     "metadata": {},
     "output_type": "display_data"
    }
   ],
   "source": [
    "# here we see the missing values in the titanic dataset in the heatmap after filling the missing values\n",
    "sns.heatmap(df.isnull())"
   ]
  },
  {
   "cell_type": "markdown",
   "metadata": {},
   "source": [
    "## **Binning**"
   ]
  },
  {
   "cell_type": "markdown",
   "metadata": {},
   "source": [
    "#### Binning in data science, in a nutshell, is about organizing continuous data into smaller, grouped categories. Imagine sorting marbles into buckets instead of leaving them scattered."
   ]
  },
  {
   "cell_type": "code",
   "execution_count": 32,
   "metadata": {},
   "outputs": [
    {
     "data": {
      "application/vnd.microsoft.datawrangler.viewer.v0+json": {
       "columns": [
        {
         "name": "index",
         "rawType": "int64",
         "type": "integer"
        },
        {
         "name": "survived",
         "rawType": "int64",
         "type": "integer"
        },
        {
         "name": "pclass",
         "rawType": "int64",
         "type": "integer"
        },
        {
         "name": "sex",
         "rawType": "object",
         "type": "string"
        },
        {
         "name": "age",
         "rawType": "float64",
         "type": "float"
        },
        {
         "name": "sibsp",
         "rawType": "int64",
         "type": "integer"
        },
        {
         "name": "parch",
         "rawType": "int64",
         "type": "integer"
        },
        {
         "name": "fare",
         "rawType": "float64",
         "type": "float"
        },
        {
         "name": "embarked",
         "rawType": "object",
         "type": "string"
        },
        {
         "name": "class",
         "rawType": "category",
         "type": "unknown"
        },
        {
         "name": "who",
         "rawType": "object",
         "type": "string"
        },
        {
         "name": "adult_male",
         "rawType": "bool",
         "type": "boolean"
        },
        {
         "name": "embark_town",
         "rawType": "object",
         "type": "string"
        },
        {
         "name": "alive",
         "rawType": "object",
         "type": "string"
        },
        {
         "name": "alone",
         "rawType": "bool",
         "type": "boolean"
        }
       ],
       "conversionMethod": "pd.DataFrame",
       "ref": "928afab6-7626-48c5-a3cb-69ea2253526f",
       "rows": [
        [
         "0",
         "0",
         "3",
         "male",
         "22.0",
         "1",
         "0",
         "7.25",
         "S",
         "Third",
         "man",
         "True",
         "Southampton",
         "no",
         "False"
        ],
        [
         "1",
         "1",
         "1",
         "female",
         "38.0",
         "1",
         "0",
         "71.2833",
         "C",
         "First",
         "woman",
         "False",
         "Cherbourg",
         "yes",
         "False"
        ],
        [
         "2",
         "1",
         "3",
         "female",
         "26.0",
         "0",
         "0",
         "7.925",
         "S",
         "Third",
         "woman",
         "False",
         "Southampton",
         "yes",
         "True"
        ],
        [
         "3",
         "1",
         "1",
         "female",
         "35.0",
         "1",
         "0",
         "53.1",
         "S",
         "First",
         "woman",
         "False",
         "Southampton",
         "yes",
         "False"
        ],
        [
         "4",
         "0",
         "3",
         "male",
         "35.0",
         "0",
         "0",
         "8.05",
         "S",
         "Third",
         "man",
         "True",
         "Southampton",
         "no",
         "True"
        ]
       ],
       "shape": {
        "columns": 14,
        "rows": 5
       }
      },
      "text/html": [
       "<div>\n",
       "<style scoped>\n",
       "    .dataframe tbody tr th:only-of-type {\n",
       "        vertical-align: middle;\n",
       "    }\n",
       "\n",
       "    .dataframe tbody tr th {\n",
       "        vertical-align: top;\n",
       "    }\n",
       "\n",
       "    .dataframe thead th {\n",
       "        text-align: right;\n",
       "    }\n",
       "</style>\n",
       "<table border=\"1\" class=\"dataframe\">\n",
       "  <thead>\n",
       "    <tr style=\"text-align: right;\">\n",
       "      <th></th>\n",
       "      <th>survived</th>\n",
       "      <th>pclass</th>\n",
       "      <th>sex</th>\n",
       "      <th>age</th>\n",
       "      <th>sibsp</th>\n",
       "      <th>parch</th>\n",
       "      <th>fare</th>\n",
       "      <th>embarked</th>\n",
       "      <th>class</th>\n",
       "      <th>who</th>\n",
       "      <th>adult_male</th>\n",
       "      <th>embark_town</th>\n",
       "      <th>alive</th>\n",
       "      <th>alone</th>\n",
       "    </tr>\n",
       "  </thead>\n",
       "  <tbody>\n",
       "    <tr>\n",
       "      <th>0</th>\n",
       "      <td>0</td>\n",
       "      <td>3</td>\n",
       "      <td>male</td>\n",
       "      <td>22.0</td>\n",
       "      <td>1</td>\n",
       "      <td>0</td>\n",
       "      <td>7.2500</td>\n",
       "      <td>S</td>\n",
       "      <td>Third</td>\n",
       "      <td>man</td>\n",
       "      <td>True</td>\n",
       "      <td>Southampton</td>\n",
       "      <td>no</td>\n",
       "      <td>False</td>\n",
       "    </tr>\n",
       "    <tr>\n",
       "      <th>1</th>\n",
       "      <td>1</td>\n",
       "      <td>1</td>\n",
       "      <td>female</td>\n",
       "      <td>38.0</td>\n",
       "      <td>1</td>\n",
       "      <td>0</td>\n",
       "      <td>71.2833</td>\n",
       "      <td>C</td>\n",
       "      <td>First</td>\n",
       "      <td>woman</td>\n",
       "      <td>False</td>\n",
       "      <td>Cherbourg</td>\n",
       "      <td>yes</td>\n",
       "      <td>False</td>\n",
       "    </tr>\n",
       "    <tr>\n",
       "      <th>2</th>\n",
       "      <td>1</td>\n",
       "      <td>3</td>\n",
       "      <td>female</td>\n",
       "      <td>26.0</td>\n",
       "      <td>0</td>\n",
       "      <td>0</td>\n",
       "      <td>7.9250</td>\n",
       "      <td>S</td>\n",
       "      <td>Third</td>\n",
       "      <td>woman</td>\n",
       "      <td>False</td>\n",
       "      <td>Southampton</td>\n",
       "      <td>yes</td>\n",
       "      <td>True</td>\n",
       "    </tr>\n",
       "    <tr>\n",
       "      <th>3</th>\n",
       "      <td>1</td>\n",
       "      <td>1</td>\n",
       "      <td>female</td>\n",
       "      <td>35.0</td>\n",
       "      <td>1</td>\n",
       "      <td>0</td>\n",
       "      <td>53.1000</td>\n",
       "      <td>S</td>\n",
       "      <td>First</td>\n",
       "      <td>woman</td>\n",
       "      <td>False</td>\n",
       "      <td>Southampton</td>\n",
       "      <td>yes</td>\n",
       "      <td>False</td>\n",
       "    </tr>\n",
       "    <tr>\n",
       "      <th>4</th>\n",
       "      <td>0</td>\n",
       "      <td>3</td>\n",
       "      <td>male</td>\n",
       "      <td>35.0</td>\n",
       "      <td>0</td>\n",
       "      <td>0</td>\n",
       "      <td>8.0500</td>\n",
       "      <td>S</td>\n",
       "      <td>Third</td>\n",
       "      <td>man</td>\n",
       "      <td>True</td>\n",
       "      <td>Southampton</td>\n",
       "      <td>no</td>\n",
       "      <td>True</td>\n",
       "    </tr>\n",
       "  </tbody>\n",
       "</table>\n",
       "</div>"
      ],
      "text/plain": [
       "   survived  pclass     sex   age  sibsp  parch     fare embarked  class  \\\n",
       "0         0       3    male  22.0      1      0   7.2500        S  Third   \n",
       "1         1       1  female  38.0      1      0  71.2833        C  First   \n",
       "2         1       3  female  26.0      0      0   7.9250        S  Third   \n",
       "3         1       1  female  35.0      1      0  53.1000        S  First   \n",
       "4         0       3    male  35.0      0      0   8.0500        S  Third   \n",
       "\n",
       "     who  adult_male  embark_town alive  alone  \n",
       "0    man        True  Southampton    no  False  \n",
       "1  woman       False    Cherbourg   yes  False  \n",
       "2  woman       False  Southampton   yes   True  \n",
       "3  woman       False  Southampton   yes  False  \n",
       "4    man        True  Southampton    no   True  "
      ]
     },
     "execution_count": 32,
     "metadata": {},
     "output_type": "execute_result"
    }
   ],
   "source": [
    "df.head()"
   ]
  },
  {
   "cell_type": "code",
   "execution_count": 33,
   "metadata": {},
   "outputs": [
    {
     "data": {
      "text/plain": [
       "np.float64(0.42)"
      ]
     },
     "execution_count": 33,
     "metadata": {},
     "output_type": "execute_result"
    }
   ],
   "source": [
    "df['age'].min()"
   ]
  },
  {
   "cell_type": "code",
   "execution_count": 34,
   "metadata": {},
   "outputs": [
    {
     "data": {
      "text/plain": [
       "np.float64(80.0)"
      ]
     },
     "execution_count": 34,
     "metadata": {},
     "output_type": "execute_result"
    }
   ],
   "source": [
    "df['age'].max()"
   ]
  },
  {
   "cell_type": "code",
   "execution_count": 35,
   "metadata": {},
   "outputs": [
    {
     "data": {
      "text/plain": [
       "<Axes: xlabel='age', ylabel='Count'>"
      ]
     },
     "execution_count": 35,
     "metadata": {},
     "output_type": "execute_result"
    },
    {
     "data": {
      "image/png": "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",
      "text/plain": [
       "<Figure size 640x480 with 1 Axes>"
      ]
     },
     "metadata": {},
     "output_type": "display_data"
    }
   ],
   "source": [
    "sns.histplot(df['age'])"
   ]
  },
  {
   "cell_type": "markdown",
   "metadata": {},
   "source": [
    "## **Feature Eningineering**"
   ]
  },
  {
   "cell_type": "markdown",
   "metadata": {},
   "source": [
    "#### In feature engineering we simply take raw data (\"ingredients\") and transform it into features (\"dishes\") that are more informative and delicious for your model to \"eat\" and learn from."
   ]
  },
  {
   "cell_type": "code",
   "execution_count": 36,
   "metadata": {},
   "outputs": [
    {
     "data": {
      "text/plain": [
       "0      young_adults\n",
       "1       middle_aged\n",
       "2      young_adults\n",
       "3       middle_aged\n",
       "4       middle_aged\n",
       "           ...     \n",
       "886    young_adults\n",
       "887    young_adults\n",
       "888    young_adults\n",
       "889    young_adults\n",
       "890     middle_aged\n",
       "Name: age, Length: 891, dtype: category\n",
       "Categories (7, object): ['infants' < 'toddlers' < 'kids' < 'teens' < 'young_adults' < 'middle_aged' < 'old']"
      ]
     },
     "execution_count": 36,
     "metadata": {},
     "output_type": "execute_result"
    }
   ],
   "source": [
    "# now we do the binning of the age colomn in the titanic dataset\n",
    "\n",
    "# Define the bin edges\n",
    "bin_edges = [0,1,5,12,18,30,50,80]\n",
    "\n",
    "# Define the bin labels\n",
    "bin_labels = ['infants','toddlers','kids','teens','young_adults','middle_aged','old']\n",
    "\n",
    "age_binned = pd.cut(df['age'], bins=bin_edges, labels=bin_labels)\n",
    "age_binned"
   ]
  },
  {
   "cell_type": "code",
   "execution_count": 37,
   "metadata": {},
   "outputs": [],
   "source": [
    "# now we simply add the new colomn that is the age_binned in the titanic dataset\n",
    "df['age_binned']=age_binned"
   ]
  },
  {
   "cell_type": "code",
   "execution_count": 38,
   "metadata": {},
   "outputs": [
    {
     "data": {
      "application/vnd.microsoft.datawrangler.viewer.v0+json": {
       "columns": [
        {
         "name": "index",
         "rawType": "int64",
         "type": "integer"
        },
        {
         "name": "survived",
         "rawType": "int64",
         "type": "integer"
        },
        {
         "name": "pclass",
         "rawType": "int64",
         "type": "integer"
        },
        {
         "name": "sex",
         "rawType": "object",
         "type": "string"
        },
        {
         "name": "age",
         "rawType": "float64",
         "type": "float"
        },
        {
         "name": "sibsp",
         "rawType": "int64",
         "type": "integer"
        },
        {
         "name": "parch",
         "rawType": "int64",
         "type": "integer"
        },
        {
         "name": "fare",
         "rawType": "float64",
         "type": "float"
        },
        {
         "name": "embarked",
         "rawType": "object",
         "type": "string"
        },
        {
         "name": "class",
         "rawType": "category",
         "type": "unknown"
        },
        {
         "name": "who",
         "rawType": "object",
         "type": "string"
        },
        {
         "name": "adult_male",
         "rawType": "bool",
         "type": "boolean"
        },
        {
         "name": "embark_town",
         "rawType": "object",
         "type": "string"
        },
        {
         "name": "alive",
         "rawType": "object",
         "type": "string"
        },
        {
         "name": "alone",
         "rawType": "bool",
         "type": "boolean"
        },
        {
         "name": "age_binned",
         "rawType": "category",
         "type": "unknown"
        }
       ],
       "conversionMethod": "pd.DataFrame",
       "ref": "8e359a93-db88-4867-8dbc-d31254c15269",
       "rows": [
        [
         "0",
         "0",
         "3",
         "male",
         "22.0",
         "1",
         "0",
         "7.25",
         "S",
         "Third",
         "man",
         "True",
         "Southampton",
         "no",
         "False",
         "young_adults"
        ],
        [
         "1",
         "1",
         "1",
         "female",
         "38.0",
         "1",
         "0",
         "71.2833",
         "C",
         "First",
         "woman",
         "False",
         "Cherbourg",
         "yes",
         "False",
         "middle_aged"
        ],
        [
         "2",
         "1",
         "3",
         "female",
         "26.0",
         "0",
         "0",
         "7.925",
         "S",
         "Third",
         "woman",
         "False",
         "Southampton",
         "yes",
         "True",
         "young_adults"
        ],
        [
         "3",
         "1",
         "1",
         "female",
         "35.0",
         "1",
         "0",
         "53.1",
         "S",
         "First",
         "woman",
         "False",
         "Southampton",
         "yes",
         "False",
         "middle_aged"
        ],
        [
         "4",
         "0",
         "3",
         "male",
         "35.0",
         "0",
         "0",
         "8.05",
         "S",
         "Third",
         "man",
         "True",
         "Southampton",
         "no",
         "True",
         "middle_aged"
        ]
       ],
       "shape": {
        "columns": 15,
        "rows": 5
       }
      },
      "text/html": [
       "<div>\n",
       "<style scoped>\n",
       "    .dataframe tbody tr th:only-of-type {\n",
       "        vertical-align: middle;\n",
       "    }\n",
       "\n",
       "    .dataframe tbody tr th {\n",
       "        vertical-align: top;\n",
       "    }\n",
       "\n",
       "    .dataframe thead th {\n",
       "        text-align: right;\n",
       "    }\n",
       "</style>\n",
       "<table border=\"1\" class=\"dataframe\">\n",
       "  <thead>\n",
       "    <tr style=\"text-align: right;\">\n",
       "      <th></th>\n",
       "      <th>survived</th>\n",
       "      <th>pclass</th>\n",
       "      <th>sex</th>\n",
       "      <th>age</th>\n",
       "      <th>sibsp</th>\n",
       "      <th>parch</th>\n",
       "      <th>fare</th>\n",
       "      <th>embarked</th>\n",
       "      <th>class</th>\n",
       "      <th>who</th>\n",
       "      <th>adult_male</th>\n",
       "      <th>embark_town</th>\n",
       "      <th>alive</th>\n",
       "      <th>alone</th>\n",
       "      <th>age_binned</th>\n",
       "    </tr>\n",
       "  </thead>\n",
       "  <tbody>\n",
       "    <tr>\n",
       "      <th>0</th>\n",
       "      <td>0</td>\n",
       "      <td>3</td>\n",
       "      <td>male</td>\n",
       "      <td>22.0</td>\n",
       "      <td>1</td>\n",
       "      <td>0</td>\n",
       "      <td>7.2500</td>\n",
       "      <td>S</td>\n",
       "      <td>Third</td>\n",
       "      <td>man</td>\n",
       "      <td>True</td>\n",
       "      <td>Southampton</td>\n",
       "      <td>no</td>\n",
       "      <td>False</td>\n",
       "      <td>young_adults</td>\n",
       "    </tr>\n",
       "    <tr>\n",
       "      <th>1</th>\n",
       "      <td>1</td>\n",
       "      <td>1</td>\n",
       "      <td>female</td>\n",
       "      <td>38.0</td>\n",
       "      <td>1</td>\n",
       "      <td>0</td>\n",
       "      <td>71.2833</td>\n",
       "      <td>C</td>\n",
       "      <td>First</td>\n",
       "      <td>woman</td>\n",
       "      <td>False</td>\n",
       "      <td>Cherbourg</td>\n",
       "      <td>yes</td>\n",
       "      <td>False</td>\n",
       "      <td>middle_aged</td>\n",
       "    </tr>\n",
       "    <tr>\n",
       "      <th>2</th>\n",
       "      <td>1</td>\n",
       "      <td>3</td>\n",
       "      <td>female</td>\n",
       "      <td>26.0</td>\n",
       "      <td>0</td>\n",
       "      <td>0</td>\n",
       "      <td>7.9250</td>\n",
       "      <td>S</td>\n",
       "      <td>Third</td>\n",
       "      <td>woman</td>\n",
       "      <td>False</td>\n",
       "      <td>Southampton</td>\n",
       "      <td>yes</td>\n",
       "      <td>True</td>\n",
       "      <td>young_adults</td>\n",
       "    </tr>\n",
       "    <tr>\n",
       "      <th>3</th>\n",
       "      <td>1</td>\n",
       "      <td>1</td>\n",
       "      <td>female</td>\n",
       "      <td>35.0</td>\n",
       "      <td>1</td>\n",
       "      <td>0</td>\n",
       "      <td>53.1000</td>\n",
       "      <td>S</td>\n",
       "      <td>First</td>\n",
       "      <td>woman</td>\n",
       "      <td>False</td>\n",
       "      <td>Southampton</td>\n",
       "      <td>yes</td>\n",
       "      <td>False</td>\n",
       "      <td>middle_aged</td>\n",
       "    </tr>\n",
       "    <tr>\n",
       "      <th>4</th>\n",
       "      <td>0</td>\n",
       "      <td>3</td>\n",
       "      <td>male</td>\n",
       "      <td>35.0</td>\n",
       "      <td>0</td>\n",
       "      <td>0</td>\n",
       "      <td>8.0500</td>\n",
       "      <td>S</td>\n",
       "      <td>Third</td>\n",
       "      <td>man</td>\n",
       "      <td>True</td>\n",
       "      <td>Southampton</td>\n",
       "      <td>no</td>\n",
       "      <td>True</td>\n",
       "      <td>middle_aged</td>\n",
       "    </tr>\n",
       "  </tbody>\n",
       "</table>\n",
       "</div>"
      ],
      "text/plain": [
       "   survived  pclass     sex   age  sibsp  parch     fare embarked  class  \\\n",
       "0         0       3    male  22.0      1      0   7.2500        S  Third   \n",
       "1         1       1  female  38.0      1      0  71.2833        C  First   \n",
       "2         1       3  female  26.0      0      0   7.9250        S  Third   \n",
       "3         1       1  female  35.0      1      0  53.1000        S  First   \n",
       "4         0       3    male  35.0      0      0   8.0500        S  Third   \n",
       "\n",
       "     who  adult_male  embark_town alive  alone    age_binned  \n",
       "0    man        True  Southampton    no  False  young_adults  \n",
       "1  woman       False    Cherbourg   yes  False   middle_aged  \n",
       "2  woman       False  Southampton   yes   True  young_adults  \n",
       "3  woman       False  Southampton   yes  False   middle_aged  \n",
       "4    man        True  Southampton    no   True   middle_aged  "
      ]
     },
     "execution_count": 38,
     "metadata": {},
     "output_type": "execute_result"
    }
   ],
   "source": [
    "df.head()"
   ]
  },
  {
   "cell_type": "code",
   "execution_count": 39,
   "metadata": {},
   "outputs": [
    {
     "data": {
      "text/plain": [
       "age_binned\n",
       "young_adults    447\n",
       "middle_aged     241\n",
       "teens            70\n",
       "old              64\n",
       "toddlers         30\n",
       "kids             25\n",
       "infants          14\n",
       "Name: count, dtype: int64"
      ]
     },
     "execution_count": 39,
     "metadata": {},
     "output_type": "execute_result"
    }
   ],
   "source": [
    "df.age_binned.value_counts()"
   ]
  },
  {
   "cell_type": "markdown",
   "metadata": {},
   "source": [
    "## Renaming the name of the column "
   ]
  },
  {
   "cell_type": "code",
   "execution_count": 40,
   "metadata": {},
   "outputs": [],
   "source": [
    "# now i am going to rename the colomn age_binned in the titanic dataset\n",
    "df.rename(columns={'age_binned':'age_group'},inplace=True)"
   ]
  },
  {
   "cell_type": "code",
   "execution_count": 41,
   "metadata": {},
   "outputs": [
    {
     "data": {
      "application/vnd.microsoft.datawrangler.viewer.v0+json": {
       "columns": [
        {
         "name": "index",
         "rawType": "int64",
         "type": "integer"
        },
        {
         "name": "survived",
         "rawType": "int64",
         "type": "integer"
        },
        {
         "name": "pclass",
         "rawType": "int64",
         "type": "integer"
        },
        {
         "name": "sex",
         "rawType": "object",
         "type": "string"
        },
        {
         "name": "age",
         "rawType": "float64",
         "type": "float"
        },
        {
         "name": "sibsp",
         "rawType": "int64",
         "type": "integer"
        },
        {
         "name": "parch",
         "rawType": "int64",
         "type": "integer"
        },
        {
         "name": "fare",
         "rawType": "float64",
         "type": "float"
        },
        {
         "name": "embarked",
         "rawType": "object",
         "type": "string"
        },
        {
         "name": "class",
         "rawType": "category",
         "type": "unknown"
        },
        {
         "name": "who",
         "rawType": "object",
         "type": "string"
        },
        {
         "name": "adult_male",
         "rawType": "bool",
         "type": "boolean"
        },
        {
         "name": "embark_town",
         "rawType": "object",
         "type": "string"
        },
        {
         "name": "alive",
         "rawType": "object",
         "type": "string"
        },
        {
         "name": "alone",
         "rawType": "bool",
         "type": "boolean"
        },
        {
         "name": "age_group",
         "rawType": "category",
         "type": "unknown"
        }
       ],
       "conversionMethod": "pd.DataFrame",
       "ref": "b53a26e6-aec8-4792-af21-20d9cf91a5bf",
       "rows": [
        [
         "0",
         "0",
         "3",
         "male",
         "22.0",
         "1",
         "0",
         "7.25",
         "S",
         "Third",
         "man",
         "True",
         "Southampton",
         "no",
         "False",
         "young_adults"
        ],
        [
         "1",
         "1",
         "1",
         "female",
         "38.0",
         "1",
         "0",
         "71.2833",
         "C",
         "First",
         "woman",
         "False",
         "Cherbourg",
         "yes",
         "False",
         "middle_aged"
        ],
        [
         "2",
         "1",
         "3",
         "female",
         "26.0",
         "0",
         "0",
         "7.925",
         "S",
         "Third",
         "woman",
         "False",
         "Southampton",
         "yes",
         "True",
         "young_adults"
        ],
        [
         "3",
         "1",
         "1",
         "female",
         "35.0",
         "1",
         "0",
         "53.1",
         "S",
         "First",
         "woman",
         "False",
         "Southampton",
         "yes",
         "False",
         "middle_aged"
        ],
        [
         "4",
         "0",
         "3",
         "male",
         "35.0",
         "0",
         "0",
         "8.05",
         "S",
         "Third",
         "man",
         "True",
         "Southampton",
         "no",
         "True",
         "middle_aged"
        ]
       ],
       "shape": {
        "columns": 15,
        "rows": 5
       }
      },
      "text/html": [
       "<div>\n",
       "<style scoped>\n",
       "    .dataframe tbody tr th:only-of-type {\n",
       "        vertical-align: middle;\n",
       "    }\n",
       "\n",
       "    .dataframe tbody tr th {\n",
       "        vertical-align: top;\n",
       "    }\n",
       "\n",
       "    .dataframe thead th {\n",
       "        text-align: right;\n",
       "    }\n",
       "</style>\n",
       "<table border=\"1\" class=\"dataframe\">\n",
       "  <thead>\n",
       "    <tr style=\"text-align: right;\">\n",
       "      <th></th>\n",
       "      <th>survived</th>\n",
       "      <th>pclass</th>\n",
       "      <th>sex</th>\n",
       "      <th>age</th>\n",
       "      <th>sibsp</th>\n",
       "      <th>parch</th>\n",
       "      <th>fare</th>\n",
       "      <th>embarked</th>\n",
       "      <th>class</th>\n",
       "      <th>who</th>\n",
       "      <th>adult_male</th>\n",
       "      <th>embark_town</th>\n",
       "      <th>alive</th>\n",
       "      <th>alone</th>\n",
       "      <th>age_group</th>\n",
       "    </tr>\n",
       "  </thead>\n",
       "  <tbody>\n",
       "    <tr>\n",
       "      <th>0</th>\n",
       "      <td>0</td>\n",
       "      <td>3</td>\n",
       "      <td>male</td>\n",
       "      <td>22.0</td>\n",
       "      <td>1</td>\n",
       "      <td>0</td>\n",
       "      <td>7.2500</td>\n",
       "      <td>S</td>\n",
       "      <td>Third</td>\n",
       "      <td>man</td>\n",
       "      <td>True</td>\n",
       "      <td>Southampton</td>\n",
       "      <td>no</td>\n",
       "      <td>False</td>\n",
       "      <td>young_adults</td>\n",
       "    </tr>\n",
       "    <tr>\n",
       "      <th>1</th>\n",
       "      <td>1</td>\n",
       "      <td>1</td>\n",
       "      <td>female</td>\n",
       "      <td>38.0</td>\n",
       "      <td>1</td>\n",
       "      <td>0</td>\n",
       "      <td>71.2833</td>\n",
       "      <td>C</td>\n",
       "      <td>First</td>\n",
       "      <td>woman</td>\n",
       "      <td>False</td>\n",
       "      <td>Cherbourg</td>\n",
       "      <td>yes</td>\n",
       "      <td>False</td>\n",
       "      <td>middle_aged</td>\n",
       "    </tr>\n",
       "    <tr>\n",
       "      <th>2</th>\n",
       "      <td>1</td>\n",
       "      <td>3</td>\n",
       "      <td>female</td>\n",
       "      <td>26.0</td>\n",
       "      <td>0</td>\n",
       "      <td>0</td>\n",
       "      <td>7.9250</td>\n",
       "      <td>S</td>\n",
       "      <td>Third</td>\n",
       "      <td>woman</td>\n",
       "      <td>False</td>\n",
       "      <td>Southampton</td>\n",
       "      <td>yes</td>\n",
       "      <td>True</td>\n",
       "      <td>young_adults</td>\n",
       "    </tr>\n",
       "    <tr>\n",
       "      <th>3</th>\n",
       "      <td>1</td>\n",
       "      <td>1</td>\n",
       "      <td>female</td>\n",
       "      <td>35.0</td>\n",
       "      <td>1</td>\n",
       "      <td>0</td>\n",
       "      <td>53.1000</td>\n",
       "      <td>S</td>\n",
       "      <td>First</td>\n",
       "      <td>woman</td>\n",
       "      <td>False</td>\n",
       "      <td>Southampton</td>\n",
       "      <td>yes</td>\n",
       "      <td>False</td>\n",
       "      <td>middle_aged</td>\n",
       "    </tr>\n",
       "    <tr>\n",
       "      <th>4</th>\n",
       "      <td>0</td>\n",
       "      <td>3</td>\n",
       "      <td>male</td>\n",
       "      <td>35.0</td>\n",
       "      <td>0</td>\n",
       "      <td>0</td>\n",
       "      <td>8.0500</td>\n",
       "      <td>S</td>\n",
       "      <td>Third</td>\n",
       "      <td>man</td>\n",
       "      <td>True</td>\n",
       "      <td>Southampton</td>\n",
       "      <td>no</td>\n",
       "      <td>True</td>\n",
       "      <td>middle_aged</td>\n",
       "    </tr>\n",
       "  </tbody>\n",
       "</table>\n",
       "</div>"
      ],
      "text/plain": [
       "   survived  pclass     sex   age  sibsp  parch     fare embarked  class  \\\n",
       "0         0       3    male  22.0      1      0   7.2500        S  Third   \n",
       "1         1       1  female  38.0      1      0  71.2833        C  First   \n",
       "2         1       3  female  26.0      0      0   7.9250        S  Third   \n",
       "3         1       1  female  35.0      1      0  53.1000        S  First   \n",
       "4         0       3    male  35.0      0      0   8.0500        S  Third   \n",
       "\n",
       "     who  adult_male  embark_town alive  alone     age_group  \n",
       "0    man        True  Southampton    no  False  young_adults  \n",
       "1  woman       False    Cherbourg   yes  False   middle_aged  \n",
       "2  woman       False  Southampton   yes   True  young_adults  \n",
       "3  woman       False  Southampton   yes  False   middle_aged  \n",
       "4    man        True  Southampton    no   True   middle_aged  "
      ]
     },
     "execution_count": 41,
     "metadata": {},
     "output_type": "execute_result"
    }
   ],
   "source": [
    "df.head()"
   ]
  },
  {
   "cell_type": "code",
   "execution_count": 42,
   "metadata": {},
   "outputs": [
    {
     "name": "stderr",
     "output_type": "stream",
     "text": [
      "C:\\Users\\Admin\\AppData\\Local\\Temp\\ipykernel_8520\\651194594.py:3: FutureWarning: The default of observed=False is deprecated and will be changed to True in a future version of pandas. Pass observed=False to retain current behavior or observed=True to adopt the future default and silence this warning.\n",
      "  df.groupby('age_group')['survived'].value_counts()\n"
     ]
    },
    {
     "data": {
      "text/plain": [
       "age_group     survived\n",
       "infants       1            12\n",
       "              0             2\n",
       "toddlers      1            19\n",
       "              0            11\n",
       "kids          0            16\n",
       "              1             9\n",
       "teens         0            40\n",
       "              1            30\n",
       "young_adults  0           299\n",
       "              1           148\n",
       "middle_aged   0           139\n",
       "              1           102\n",
       "old           0            42\n",
       "              1            22\n",
       "Name: count, dtype: int64"
      ]
     },
     "execution_count": 42,
     "metadata": {},
     "output_type": "execute_result"
    }
   ],
   "source": [
    "# now i am going to see how may of the people survived or not in the titanic dataset with respect to the age_group using the \n",
    "# groupby function\n",
    "df.groupby('age_group')['survived'].value_counts()"
   ]
  },
  {
   "cell_type": "code",
   "execution_count": 43,
   "metadata": {},
   "outputs": [
    {
     "name": "stderr",
     "output_type": "stream",
     "text": [
      "C:\\Users\\Admin\\AppData\\Local\\Temp\\ipykernel_8520\\3999596250.py:2: FutureWarning: The default of observed=False is deprecated and will be changed to True in a future version of pandas. Pass observed=False to retain current behavior or observed=True to adopt the future default and silence this warning.\n",
      "  df.groupby('age_group')[['fare','survived']].mean()\n"
     ]
    },
    {
     "data": {
      "application/vnd.microsoft.datawrangler.viewer.v0+json": {
       "columns": [
        {
         "name": "age_group",
         "rawType": "category",
         "type": "unknown"
        },
        {
         "name": "fare",
         "rawType": "float64",
         "type": "float"
        },
        {
         "name": "survived",
         "rawType": "float64",
         "type": "float"
        }
       ],
       "conversionMethod": "pd.DataFrame",
       "ref": "c2240133-e989-4542-b3a1-14a9c4096cdd",
       "rows": [
        [
         "infants",
         "33.63392857142857",
         "0.8571428571428571"
        ],
        [
         "toddlers",
         "30.545276666666666",
         "0.6333333333333333"
        ],
        [
         "kids",
         "31.551",
         "0.36"
        ],
        [
         "teens",
         "33.45131285714285",
         "0.42857142857142855"
        ],
        [
         "young_adults",
         "25.18727427293065",
         "0.33109619686800895"
        ],
        [
         "middle_aged",
         "42.020452697095436",
         "0.42323651452282157"
        ],
        [
         "old",
         "43.60481875",
         "0.34375"
        ]
       ],
       "shape": {
        "columns": 2,
        "rows": 7
       }
      },
      "text/html": [
       "<div>\n",
       "<style scoped>\n",
       "    .dataframe tbody tr th:only-of-type {\n",
       "        vertical-align: middle;\n",
       "    }\n",
       "\n",
       "    .dataframe tbody tr th {\n",
       "        vertical-align: top;\n",
       "    }\n",
       "\n",
       "    .dataframe thead th {\n",
       "        text-align: right;\n",
       "    }\n",
       "</style>\n",
       "<table border=\"1\" class=\"dataframe\">\n",
       "  <thead>\n",
       "    <tr style=\"text-align: right;\">\n",
       "      <th></th>\n",
       "      <th>fare</th>\n",
       "      <th>survived</th>\n",
       "    </tr>\n",
       "    <tr>\n",
       "      <th>age_group</th>\n",
       "      <th></th>\n",
       "      <th></th>\n",
       "    </tr>\n",
       "  </thead>\n",
       "  <tbody>\n",
       "    <tr>\n",
       "      <th>infants</th>\n",
       "      <td>33.633929</td>\n",
       "      <td>0.857143</td>\n",
       "    </tr>\n",
       "    <tr>\n",
       "      <th>toddlers</th>\n",
       "      <td>30.545277</td>\n",
       "      <td>0.633333</td>\n",
       "    </tr>\n",
       "    <tr>\n",
       "      <th>kids</th>\n",
       "      <td>31.551000</td>\n",
       "      <td>0.360000</td>\n",
       "    </tr>\n",
       "    <tr>\n",
       "      <th>teens</th>\n",
       "      <td>33.451313</td>\n",
       "      <td>0.428571</td>\n",
       "    </tr>\n",
       "    <tr>\n",
       "      <th>young_adults</th>\n",
       "      <td>25.187274</td>\n",
       "      <td>0.331096</td>\n",
       "    </tr>\n",
       "    <tr>\n",
       "      <th>middle_aged</th>\n",
       "      <td>42.020453</td>\n",
       "      <td>0.423237</td>\n",
       "    </tr>\n",
       "    <tr>\n",
       "      <th>old</th>\n",
       "      <td>43.604819</td>\n",
       "      <td>0.343750</td>\n",
       "    </tr>\n",
       "  </tbody>\n",
       "</table>\n",
       "</div>"
      ],
      "text/plain": [
       "                   fare  survived\n",
       "age_group                        \n",
       "infants       33.633929  0.857143\n",
       "toddlers      30.545277  0.633333\n",
       "kids          31.551000  0.360000\n",
       "teens         33.451313  0.428571\n",
       "young_adults  25.187274  0.331096\n",
       "middle_aged   42.020453  0.423237\n",
       "old           43.604819  0.343750"
      ]
     },
     "execution_count": 43,
     "metadata": {},
     "output_type": "execute_result"
    }
   ],
   "source": [
    "# now  we see the people of certain age_group survived or not are paying how much fare\n",
    "df.groupby('age_group')[['fare','survived']].mean()"
   ]
  },
  {
   "cell_type": "markdown",
   "metadata": {},
   "source": [
    "## **Filteration of  the dataset**"
   ]
  },
  {
   "cell_type": "markdown",
   "metadata": {},
   "source": [
    "#### Filtering a dataset in data science is like straining soup. You have a big pot of information, but you only want specific ingredients for your analysis. Filtering lets you keep the relevant bits and discard the rest."
   ]
  },
  {
   "cell_type": "code",
   "execution_count": 44,
   "metadata": {},
   "outputs": [
    {
     "data": {
      "text/plain": [
       "Index(['survived', 'pclass', 'sex', 'age', 'sibsp', 'parch', 'fare',\n",
       "       'embarked', 'class', 'who', 'adult_male', 'embark_town', 'alive',\n",
       "       'alone', 'age_group'],\n",
       "      dtype='object')"
      ]
     },
     "execution_count": 44,
     "metadata": {},
     "output_type": "execute_result"
    }
   ],
   "source": [
    "# based on columns\n",
    "df.columns"
   ]
  },
  {
   "cell_type": "code",
   "execution_count": 45,
   "metadata": {},
   "outputs": [
    {
     "data": {
      "application/vnd.microsoft.datawrangler.viewer.v0+json": {
       "columns": [
        {
         "name": "index",
         "rawType": "int64",
         "type": "integer"
        },
        {
         "name": "age",
         "rawType": "float64",
         "type": "float"
        },
        {
         "name": "class",
         "rawType": "category",
         "type": "unknown"
        },
        {
         "name": "fare",
         "rawType": "float64",
         "type": "float"
        },
        {
         "name": "survived",
         "rawType": "int64",
         "type": "integer"
        }
       ],
       "conversionMethod": "pd.DataFrame",
       "ref": "e18c7656-f169-4b17-9de1-92293c33c127",
       "rows": [
        [
         "0",
         "22.0",
         "Third",
         "7.25",
         "0"
        ],
        [
         "1",
         "38.0",
         "First",
         "71.2833",
         "1"
        ],
        [
         "2",
         "26.0",
         "Third",
         "7.925",
         "1"
        ],
        [
         "3",
         "35.0",
         "First",
         "53.1",
         "1"
        ],
        [
         "4",
         "35.0",
         "Third",
         "8.05",
         "0"
        ]
       ],
       "shape": {
        "columns": 4,
        "rows": 5
       }
      },
      "text/html": [
       "<div>\n",
       "<style scoped>\n",
       "    .dataframe tbody tr th:only-of-type {\n",
       "        vertical-align: middle;\n",
       "    }\n",
       "\n",
       "    .dataframe tbody tr th {\n",
       "        vertical-align: top;\n",
       "    }\n",
       "\n",
       "    .dataframe thead th {\n",
       "        text-align: right;\n",
       "    }\n",
       "</style>\n",
       "<table border=\"1\" class=\"dataframe\">\n",
       "  <thead>\n",
       "    <tr style=\"text-align: right;\">\n",
       "      <th></th>\n",
       "      <th>age</th>\n",
       "      <th>class</th>\n",
       "      <th>fare</th>\n",
       "      <th>survived</th>\n",
       "    </tr>\n",
       "  </thead>\n",
       "  <tbody>\n",
       "    <tr>\n",
       "      <th>0</th>\n",
       "      <td>22.0</td>\n",
       "      <td>Third</td>\n",
       "      <td>7.2500</td>\n",
       "      <td>0</td>\n",
       "    </tr>\n",
       "    <tr>\n",
       "      <th>1</th>\n",
       "      <td>38.0</td>\n",
       "      <td>First</td>\n",
       "      <td>71.2833</td>\n",
       "      <td>1</td>\n",
       "    </tr>\n",
       "    <tr>\n",
       "      <th>2</th>\n",
       "      <td>26.0</td>\n",
       "      <td>Third</td>\n",
       "      <td>7.9250</td>\n",
       "      <td>1</td>\n",
       "    </tr>\n",
       "    <tr>\n",
       "      <th>3</th>\n",
       "      <td>35.0</td>\n",
       "      <td>First</td>\n",
       "      <td>53.1000</td>\n",
       "      <td>1</td>\n",
       "    </tr>\n",
       "    <tr>\n",
       "      <th>4</th>\n",
       "      <td>35.0</td>\n",
       "      <td>Third</td>\n",
       "      <td>8.0500</td>\n",
       "      <td>0</td>\n",
       "    </tr>\n",
       "  </tbody>\n",
       "</table>\n",
       "</div>"
      ],
      "text/plain": [
       "    age  class     fare  survived\n",
       "0  22.0  Third   7.2500         0\n",
       "1  38.0  First  71.2833         1\n",
       "2  26.0  Third   7.9250         1\n",
       "3  35.0  First  53.1000         1\n",
       "4  35.0  Third   8.0500         0"
      ]
     },
     "execution_count": 45,
     "metadata": {},
     "output_type": "execute_result"
    }
   ],
   "source": [
    "df_1=df[['age','class','fare','survived']]\n",
    "df_1.head()"
   ]
  },
  {
   "cell_type": "code",
   "execution_count": 46,
   "metadata": {},
   "outputs": [
    {
     "name": "stdout",
     "output_type": "stream",
     "text": [
      "<class 'pandas.core.frame.DataFrame'>\n",
      "RangeIndex: 891 entries, 0 to 890\n",
      "Data columns (total 4 columns):\n",
      " #   Column    Non-Null Count  Dtype   \n",
      "---  ------    --------------  -----   \n",
      " 0   age       891 non-null    float64 \n",
      " 1   class     891 non-null    category\n",
      " 2   fare      891 non-null    float64 \n",
      " 3   survived  891 non-null    int64   \n",
      "dtypes: category(1), float64(2), int64(1)\n",
      "memory usage: 22.0 KB\n"
     ]
    }
   ],
   "source": [
    "df_1.info()"
   ]
  },
  {
   "cell_type": "code",
   "execution_count": 47,
   "metadata": {},
   "outputs": [
    {
     "data": {
      "text/plain": [
       "class\n",
       "Third     491\n",
       "First     216\n",
       "Second    184\n",
       "Name: count, dtype: int64"
      ]
     },
     "execution_count": 47,
     "metadata": {},
     "output_type": "execute_result"
    }
   ],
   "source": [
    "df_1['class'].value_counts()"
   ]
  },
  {
   "cell_type": "code",
   "execution_count": 48,
   "metadata": {},
   "outputs": [
    {
     "data": {
      "application/vnd.microsoft.datawrangler.viewer.v0+json": {
       "columns": [
        {
         "name": "index",
         "rawType": "int64",
         "type": "integer"
        },
        {
         "name": "age",
         "rawType": "float64",
         "type": "float"
        },
        {
         "name": "class",
         "rawType": "category",
         "type": "unknown"
        },
        {
         "name": "fare",
         "rawType": "float64",
         "type": "float"
        },
        {
         "name": "survived",
         "rawType": "int64",
         "type": "integer"
        }
       ],
       "conversionMethod": "pd.DataFrame",
       "ref": "0e50449b-e977-4089-bdce-ed036e035379",
       "rows": [
        [
         "1",
         "38.0",
         "First",
         "71.2833",
         "1"
        ],
        [
         "3",
         "35.0",
         "First",
         "53.1",
         "1"
        ],
        [
         "6",
         "54.0",
         "First",
         "51.8625",
         "0"
        ],
        [
         "11",
         "58.0",
         "First",
         "26.55",
         "1"
        ],
        [
         "23",
         "28.0",
         "First",
         "35.5",
         "1"
        ],
        [
         "27",
         "19.0",
         "First",
         "263.0",
         "0"
        ],
        [
         "30",
         "40.0",
         "First",
         "27.7208",
         "0"
        ],
        [
         "31",
         "29.69911764705882",
         "First",
         "146.5208",
         "1"
        ],
        [
         "34",
         "28.0",
         "First",
         "82.1708",
         "0"
        ],
        [
         "35",
         "42.0",
         "First",
         "52.0",
         "0"
        ],
        [
         "52",
         "49.0",
         "First",
         "76.7292",
         "1"
        ],
        [
         "54",
         "65.0",
         "First",
         "61.9792",
         "0"
        ],
        [
         "55",
         "29.69911764705882",
         "First",
         "35.5",
         "1"
        ],
        [
         "61",
         "38.0",
         "First",
         "80.0",
         "1"
        ],
        [
         "62",
         "45.0",
         "First",
         "83.475",
         "0"
        ],
        [
         "64",
         "29.69911764705882",
         "First",
         "27.7208",
         "0"
        ],
        [
         "83",
         "28.0",
         "First",
         "47.1",
         "0"
        ],
        [
         "88",
         "23.0",
         "First",
         "263.0",
         "1"
        ],
        [
         "92",
         "46.0",
         "First",
         "61.175",
         "0"
        ],
        [
         "96",
         "71.0",
         "First",
         "34.6542",
         "0"
        ],
        [
         "97",
         "23.0",
         "First",
         "63.3583",
         "1"
        ],
        [
         "102",
         "21.0",
         "First",
         "77.2875",
         "0"
        ],
        [
         "110",
         "47.0",
         "First",
         "52.0",
         "0"
        ],
        [
         "118",
         "24.0",
         "First",
         "247.5208",
         "0"
        ],
        [
         "124",
         "54.0",
         "First",
         "77.2875",
         "0"
        ],
        [
         "136",
         "19.0",
         "First",
         "26.2833",
         "1"
        ],
        [
         "137",
         "37.0",
         "First",
         "53.1",
         "0"
        ],
        [
         "139",
         "24.0",
         "First",
         "79.2",
         "0"
        ],
        [
         "151",
         "22.0",
         "First",
         "66.6",
         "1"
        ],
        [
         "155",
         "51.0",
         "First",
         "61.3792",
         "0"
        ],
        [
         "166",
         "29.69911764705882",
         "First",
         "55.0",
         "1"
        ],
        [
         "168",
         "29.69911764705882",
         "First",
         "25.925",
         "0"
        ],
        [
         "170",
         "61.0",
         "First",
         "33.5",
         "0"
        ],
        [
         "174",
         "56.0",
         "First",
         "30.6958",
         "0"
        ],
        [
         "177",
         "50.0",
         "First",
         "28.7125",
         "0"
        ],
        [
         "185",
         "29.69911764705882",
         "First",
         "50.0",
         "0"
        ],
        [
         "187",
         "45.0",
         "First",
         "26.55",
         "1"
        ],
        [
         "194",
         "44.0",
         "First",
         "27.7208",
         "1"
        ],
        [
         "195",
         "58.0",
         "First",
         "146.5208",
         "1"
        ],
        [
         "209",
         "40.0",
         "First",
         "31.0",
         "1"
        ],
        [
         "215",
         "31.0",
         "First",
         "113.275",
         "1"
        ],
        [
         "218",
         "32.0",
         "First",
         "76.2917",
         "1"
        ],
        [
         "224",
         "38.0",
         "First",
         "90.0",
         "1"
        ],
        [
         "230",
         "35.0",
         "First",
         "83.475",
         "1"
        ],
        [
         "245",
         "44.0",
         "First",
         "90.0",
         "0"
        ],
        [
         "248",
         "37.0",
         "First",
         "52.5542",
         "1"
        ],
        [
         "252",
         "62.0",
         "First",
         "26.55",
         "0"
        ],
        [
         "256",
         "29.69911764705882",
         "First",
         "79.2",
         "1"
        ],
        [
         "257",
         "30.0",
         "First",
         "86.5",
         "1"
        ],
        [
         "258",
         "35.0",
         "First",
         "512.3292",
         "1"
        ]
       ],
       "shape": {
        "columns": 4,
        "rows": 216
       }
      },
      "text/html": [
       "<div>\n",
       "<style scoped>\n",
       "    .dataframe tbody tr th:only-of-type {\n",
       "        vertical-align: middle;\n",
       "    }\n",
       "\n",
       "    .dataframe tbody tr th {\n",
       "        vertical-align: top;\n",
       "    }\n",
       "\n",
       "    .dataframe thead th {\n",
       "        text-align: right;\n",
       "    }\n",
       "</style>\n",
       "<table border=\"1\" class=\"dataframe\">\n",
       "  <thead>\n",
       "    <tr style=\"text-align: right;\">\n",
       "      <th></th>\n",
       "      <th>age</th>\n",
       "      <th>class</th>\n",
       "      <th>fare</th>\n",
       "      <th>survived</th>\n",
       "    </tr>\n",
       "  </thead>\n",
       "  <tbody>\n",
       "    <tr>\n",
       "      <th>1</th>\n",
       "      <td>38.0</td>\n",
       "      <td>First</td>\n",
       "      <td>71.2833</td>\n",
       "      <td>1</td>\n",
       "    </tr>\n",
       "    <tr>\n",
       "      <th>3</th>\n",
       "      <td>35.0</td>\n",
       "      <td>First</td>\n",
       "      <td>53.1000</td>\n",
       "      <td>1</td>\n",
       "    </tr>\n",
       "    <tr>\n",
       "      <th>6</th>\n",
       "      <td>54.0</td>\n",
       "      <td>First</td>\n",
       "      <td>51.8625</td>\n",
       "      <td>0</td>\n",
       "    </tr>\n",
       "    <tr>\n",
       "      <th>11</th>\n",
       "      <td>58.0</td>\n",
       "      <td>First</td>\n",
       "      <td>26.5500</td>\n",
       "      <td>1</td>\n",
       "    </tr>\n",
       "    <tr>\n",
       "      <th>23</th>\n",
       "      <td>28.0</td>\n",
       "      <td>First</td>\n",
       "      <td>35.5000</td>\n",
       "      <td>1</td>\n",
       "    </tr>\n",
       "    <tr>\n",
       "      <th>...</th>\n",
       "      <td>...</td>\n",
       "      <td>...</td>\n",
       "      <td>...</td>\n",
       "      <td>...</td>\n",
       "    </tr>\n",
       "    <tr>\n",
       "      <th>871</th>\n",
       "      <td>47.0</td>\n",
       "      <td>First</td>\n",
       "      <td>52.5542</td>\n",
       "      <td>1</td>\n",
       "    </tr>\n",
       "    <tr>\n",
       "      <th>872</th>\n",
       "      <td>33.0</td>\n",
       "      <td>First</td>\n",
       "      <td>5.0000</td>\n",
       "      <td>0</td>\n",
       "    </tr>\n",
       "    <tr>\n",
       "      <th>879</th>\n",
       "      <td>56.0</td>\n",
       "      <td>First</td>\n",
       "      <td>83.1583</td>\n",
       "      <td>1</td>\n",
       "    </tr>\n",
       "    <tr>\n",
       "      <th>887</th>\n",
       "      <td>19.0</td>\n",
       "      <td>First</td>\n",
       "      <td>30.0000</td>\n",
       "      <td>1</td>\n",
       "    </tr>\n",
       "    <tr>\n",
       "      <th>889</th>\n",
       "      <td>26.0</td>\n",
       "      <td>First</td>\n",
       "      <td>30.0000</td>\n",
       "      <td>1</td>\n",
       "    </tr>\n",
       "  </tbody>\n",
       "</table>\n",
       "<p>216 rows × 4 columns</p>\n",
       "</div>"
      ],
      "text/plain": [
       "      age  class     fare  survived\n",
       "1    38.0  First  71.2833         1\n",
       "3    35.0  First  53.1000         1\n",
       "6    54.0  First  51.8625         0\n",
       "11   58.0  First  26.5500         1\n",
       "23   28.0  First  35.5000         1\n",
       "..    ...    ...      ...       ...\n",
       "871  47.0  First  52.5542         1\n",
       "872  33.0  First   5.0000         0\n",
       "879  56.0  First  83.1583         1\n",
       "887  19.0  First  30.0000         1\n",
       "889  26.0  First  30.0000         1\n",
       "\n",
       "[216 rows x 4 columns]"
      ]
     },
     "execution_count": 48,
     "metadata": {},
     "output_type": "execute_result"
    }
   ],
   "source": [
    "# filtering the data with respect to rows\n",
    "df_1[df_1['class']==\"First\"]"
   ]
  },
  {
   "cell_type": "code",
   "execution_count": 49,
   "metadata": {},
   "outputs": [],
   "source": [
    "# now i am going to see the people whose fare is greater then 200 \n",
    "df_200=df_1[df_1['fare']>74]"
   ]
  },
  {
   "cell_type": "code",
   "execution_count": 50,
   "metadata": {},
   "outputs": [
    {
     "name": "stdout",
     "output_type": "stream",
     "text": [
      "<class 'pandas.core.frame.DataFrame'>\n",
      "Index: 97 entries, 27 to 879\n",
      "Data columns (total 4 columns):\n",
      " #   Column    Non-Null Count  Dtype   \n",
      "---  ------    --------------  -----   \n",
      " 0   age       97 non-null     float64 \n",
      " 1   class     97 non-null     category\n",
      " 2   fare      97 non-null     float64 \n",
      " 3   survived  97 non-null     int64   \n",
      "dtypes: category(1), float64(2), int64(1)\n",
      "memory usage: 3.3 KB\n"
     ]
    }
   ],
   "source": [
    "df_200.info()"
   ]
  },
  {
   "cell_type": "code",
   "execution_count": 51,
   "metadata": {},
   "outputs": [
    {
     "data": {
      "text/plain": [
       "class\n",
       "First     97\n",
       "Second     0\n",
       "Third      0\n",
       "Name: count, dtype: int64"
      ]
     },
     "execution_count": 51,
     "metadata": {},
     "output_type": "execute_result"
    }
   ],
   "source": [
    "df_200['class'].value_counts()"
   ]
  },
  {
   "cell_type": "code",
   "execution_count": 53,
   "metadata": {},
   "outputs": [
    {
     "data": {
      "application/vnd.microsoft.datawrangler.viewer.v0+json": {
       "columns": [
        {
         "name": "index",
         "rawType": "int64",
         "type": "integer"
        },
        {
         "name": "age",
         "rawType": "float64",
         "type": "float"
        },
        {
         "name": "class",
         "rawType": "category",
         "type": "unknown"
        },
        {
         "name": "fare",
         "rawType": "float64",
         "type": "float"
        },
        {
         "name": "survived",
         "rawType": "int64",
         "type": "integer"
        }
       ],
       "conversionMethod": "pd.DataFrame",
       "ref": "54378d9e-f172-4283-b751-2c96bfdc9291",
       "rows": [
        [
         "1",
         "38.0",
         "First",
         "71.2833",
         "1"
        ],
        [
         "3",
         "35.0",
         "First",
         "53.1",
         "1"
        ],
        [
         "6",
         "54.0",
         "First",
         "51.8625",
         "0"
        ],
        [
         "11",
         "58.0",
         "First",
         "26.55",
         "1"
        ],
        [
         "23",
         "28.0",
         "First",
         "35.5",
         "1"
        ],
        [
         "27",
         "19.0",
         "First",
         "263.0",
         "0"
        ],
        [
         "30",
         "40.0",
         "First",
         "27.7208",
         "0"
        ],
        [
         "31",
         "29.69911764705882",
         "First",
         "146.5208",
         "1"
        ],
        [
         "34",
         "28.0",
         "First",
         "82.1708",
         "0"
        ],
        [
         "35",
         "42.0",
         "First",
         "52.0",
         "0"
        ],
        [
         "52",
         "49.0",
         "First",
         "76.7292",
         "1"
        ],
        [
         "54",
         "65.0",
         "First",
         "61.9792",
         "0"
        ],
        [
         "55",
         "29.69911764705882",
         "First",
         "35.5",
         "1"
        ],
        [
         "61",
         "38.0",
         "First",
         "80.0",
         "1"
        ],
        [
         "62",
         "45.0",
         "First",
         "83.475",
         "0"
        ],
        [
         "64",
         "29.69911764705882",
         "First",
         "27.7208",
         "0"
        ],
        [
         "83",
         "28.0",
         "First",
         "47.1",
         "0"
        ],
        [
         "88",
         "23.0",
         "First",
         "263.0",
         "1"
        ],
        [
         "92",
         "46.0",
         "First",
         "61.175",
         "0"
        ],
        [
         "96",
         "71.0",
         "First",
         "34.6542",
         "0"
        ],
        [
         "97",
         "23.0",
         "First",
         "63.3583",
         "1"
        ],
        [
         "102",
         "21.0",
         "First",
         "77.2875",
         "0"
        ],
        [
         "110",
         "47.0",
         "First",
         "52.0",
         "0"
        ],
        [
         "118",
         "24.0",
         "First",
         "247.5208",
         "0"
        ],
        [
         "124",
         "54.0",
         "First",
         "77.2875",
         "0"
        ],
        [
         "136",
         "19.0",
         "First",
         "26.2833",
         "1"
        ],
        [
         "137",
         "37.0",
         "First",
         "53.1",
         "0"
        ],
        [
         "139",
         "24.0",
         "First",
         "79.2",
         "0"
        ],
        [
         "151",
         "22.0",
         "First",
         "66.6",
         "1"
        ],
        [
         "155",
         "51.0",
         "First",
         "61.3792",
         "0"
        ],
        [
         "166",
         "29.69911764705882",
         "First",
         "55.0",
         "1"
        ],
        [
         "168",
         "29.69911764705882",
         "First",
         "25.925",
         "0"
        ],
        [
         "170",
         "61.0",
         "First",
         "33.5",
         "0"
        ],
        [
         "174",
         "56.0",
         "First",
         "30.6958",
         "0"
        ],
        [
         "177",
         "50.0",
         "First",
         "28.7125",
         "0"
        ],
        [
         "185",
         "29.69911764705882",
         "First",
         "50.0",
         "0"
        ],
        [
         "187",
         "45.0",
         "First",
         "26.55",
         "1"
        ],
        [
         "194",
         "44.0",
         "First",
         "27.7208",
         "1"
        ],
        [
         "195",
         "58.0",
         "First",
         "146.5208",
         "1"
        ],
        [
         "209",
         "40.0",
         "First",
         "31.0",
         "1"
        ],
        [
         "215",
         "31.0",
         "First",
         "113.275",
         "1"
        ],
        [
         "218",
         "32.0",
         "First",
         "76.2917",
         "1"
        ],
        [
         "224",
         "38.0",
         "First",
         "90.0",
         "1"
        ],
        [
         "230",
         "35.0",
         "First",
         "83.475",
         "1"
        ],
        [
         "245",
         "44.0",
         "First",
         "90.0",
         "0"
        ],
        [
         "248",
         "37.0",
         "First",
         "52.5542",
         "1"
        ],
        [
         "252",
         "62.0",
         "First",
         "26.55",
         "0"
        ],
        [
         "256",
         "29.69911764705882",
         "First",
         "79.2",
         "1"
        ],
        [
         "257",
         "30.0",
         "First",
         "86.5",
         "1"
        ],
        [
         "258",
         "35.0",
         "First",
         "512.3292",
         "1"
        ]
       ],
       "shape": {
        "columns": 4,
        "rows": 216
       }
      },
      "text/html": [
       "<div>\n",
       "<style scoped>\n",
       "    .dataframe tbody tr th:only-of-type {\n",
       "        vertical-align: middle;\n",
       "    }\n",
       "\n",
       "    .dataframe tbody tr th {\n",
       "        vertical-align: top;\n",
       "    }\n",
       "\n",
       "    .dataframe thead th {\n",
       "        text-align: right;\n",
       "    }\n",
       "</style>\n",
       "<table border=\"1\" class=\"dataframe\">\n",
       "  <thead>\n",
       "    <tr style=\"text-align: right;\">\n",
       "      <th></th>\n",
       "      <th>age</th>\n",
       "      <th>class</th>\n",
       "      <th>fare</th>\n",
       "      <th>survived</th>\n",
       "    </tr>\n",
       "  </thead>\n",
       "  <tbody>\n",
       "    <tr>\n",
       "      <th>1</th>\n",
       "      <td>38.0</td>\n",
       "      <td>First</td>\n",
       "      <td>71.2833</td>\n",
       "      <td>1</td>\n",
       "    </tr>\n",
       "    <tr>\n",
       "      <th>3</th>\n",
       "      <td>35.0</td>\n",
       "      <td>First</td>\n",
       "      <td>53.1000</td>\n",
       "      <td>1</td>\n",
       "    </tr>\n",
       "    <tr>\n",
       "      <th>6</th>\n",
       "      <td>54.0</td>\n",
       "      <td>First</td>\n",
       "      <td>51.8625</td>\n",
       "      <td>0</td>\n",
       "    </tr>\n",
       "    <tr>\n",
       "      <th>11</th>\n",
       "      <td>58.0</td>\n",
       "      <td>First</td>\n",
       "      <td>26.5500</td>\n",
       "      <td>1</td>\n",
       "    </tr>\n",
       "    <tr>\n",
       "      <th>23</th>\n",
       "      <td>28.0</td>\n",
       "      <td>First</td>\n",
       "      <td>35.5000</td>\n",
       "      <td>1</td>\n",
       "    </tr>\n",
       "    <tr>\n",
       "      <th>...</th>\n",
       "      <td>...</td>\n",
       "      <td>...</td>\n",
       "      <td>...</td>\n",
       "      <td>...</td>\n",
       "    </tr>\n",
       "    <tr>\n",
       "      <th>871</th>\n",
       "      <td>47.0</td>\n",
       "      <td>First</td>\n",
       "      <td>52.5542</td>\n",
       "      <td>1</td>\n",
       "    </tr>\n",
       "    <tr>\n",
       "      <th>872</th>\n",
       "      <td>33.0</td>\n",
       "      <td>First</td>\n",
       "      <td>5.0000</td>\n",
       "      <td>0</td>\n",
       "    </tr>\n",
       "    <tr>\n",
       "      <th>879</th>\n",
       "      <td>56.0</td>\n",
       "      <td>First</td>\n",
       "      <td>83.1583</td>\n",
       "      <td>1</td>\n",
       "    </tr>\n",
       "    <tr>\n",
       "      <th>887</th>\n",
       "      <td>19.0</td>\n",
       "      <td>First</td>\n",
       "      <td>30.0000</td>\n",
       "      <td>1</td>\n",
       "    </tr>\n",
       "    <tr>\n",
       "      <th>889</th>\n",
       "      <td>26.0</td>\n",
       "      <td>First</td>\n",
       "      <td>30.0000</td>\n",
       "      <td>1</td>\n",
       "    </tr>\n",
       "  </tbody>\n",
       "</table>\n",
       "<p>216 rows × 4 columns</p>\n",
       "</div>"
      ],
      "text/plain": [
       "      age  class     fare  survived\n",
       "1    38.0  First  71.2833         1\n",
       "3    35.0  First  53.1000         1\n",
       "6    54.0  First  51.8625         0\n",
       "11   58.0  First  26.5500         1\n",
       "23   28.0  First  35.5000         1\n",
       "..    ...    ...      ...       ...\n",
       "871  47.0  First  52.5542         1\n",
       "872  33.0  First   5.0000         0\n",
       "879  56.0  First  83.1583         1\n",
       "887  19.0  First  30.0000         1\n",
       "889  26.0  First  30.0000         1\n",
       "\n",
       "[216 rows x 4 columns]"
      ]
     },
     "execution_count": 53,
     "metadata": {},
     "output_type": "execute_result"
    }
   ],
   "source": [
    "df_first=df_1[df_1['class']==\"First\"]\n",
    "df_first"
   ]
  },
  {
   "cell_type": "code",
   "execution_count": 54,
   "metadata": {},
   "outputs": [
    {
     "data": {
      "text/plain": [
       "np.float64(0.0)"
      ]
     },
     "execution_count": 54,
     "metadata": {},
     "output_type": "execute_result"
    }
   ],
   "source": [
    "df_first['fare'].min()          # some of them move in first class for free"
   ]
  },
  {
   "cell_type": "code",
   "execution_count": 55,
   "metadata": {},
   "outputs": [
    {
     "data": {
      "text/plain": [
       "np.float64(512.3292)"
      ]
     },
     "execution_count": 55,
     "metadata": {},
     "output_type": "execute_result"
    }
   ],
   "source": [
    "df_first['fare'].max()              # the max fare paid by the people of first class "
   ]
  },
  {
   "cell_type": "code",
   "execution_count": 56,
   "metadata": {},
   "outputs": [
    {
     "data": {
      "application/vnd.microsoft.datawrangler.viewer.v0+json": {
       "columns": [
        {
         "name": "index",
         "rawType": "int64",
         "type": "integer"
        },
        {
         "name": "age",
         "rawType": "float64",
         "type": "float"
        },
        {
         "name": "class",
         "rawType": "category",
         "type": "unknown"
        },
        {
         "name": "fare",
         "rawType": "float64",
         "type": "float"
        },
        {
         "name": "survived",
         "rawType": "int64",
         "type": "integer"
        }
       ],
       "conversionMethod": "pd.DataFrame",
       "ref": "3d6b0a28-e423-41ea-ab39-f7aa739bbb88",
       "rows": [
        [
         "366",
         "60.0",
         "First",
         "75.25",
         "1"
        ],
        [
         "218",
         "32.0",
         "First",
         "76.2917",
         "1"
        ],
        [
         "52",
         "49.0",
         "First",
         "76.7292",
         "1"
        ],
        [
         "645",
         "48.0",
         "First",
         "76.7292",
         "1"
        ],
        [
         "681",
         "27.0",
         "First",
         "76.7292",
         "1"
        ],
        [
         "124",
         "54.0",
         "First",
         "77.2875",
         "0"
        ],
        [
         "102",
         "21.0",
         "First",
         "77.2875",
         "0"
        ],
        [
         "275",
         "63.0",
         "First",
         "77.9583",
         "1"
        ],
        [
         "765",
         "51.0",
         "First",
         "77.9583",
         "1"
        ],
        [
         "627",
         "21.0",
         "First",
         "77.9583",
         "1"
        ],
        [
         "496",
         "54.0",
         "First",
         "78.2667",
         "1"
        ],
        [
         "591",
         "52.0",
         "First",
         "78.2667",
         "1"
        ],
        [
         "741",
         "36.0",
         "First",
         "78.85",
         "0"
        ],
        [
         "290",
         "26.0",
         "First",
         "78.85",
         "1"
        ],
        [
         "139",
         "24.0",
         "First",
         "79.2",
         "0"
        ],
        [
         "256",
         "29.69911764705882",
         "First",
         "79.2",
         "1"
        ],
        [
         "789",
         "46.0",
         "First",
         "79.2",
         "0"
        ],
        [
         "587",
         "60.0",
         "First",
         "79.2",
         "1"
        ],
        [
         "262",
         "52.0",
         "First",
         "79.65",
         "0"
        ],
        [
         "585",
         "18.0",
         "First",
         "79.65",
         "1"
        ],
        [
         "558",
         "39.0",
         "First",
         "79.65",
         "1"
        ],
        [
         "829",
         "62.0",
         "First",
         "80.0",
         "1"
        ],
        [
         "61",
         "38.0",
         "First",
         "80.0",
         "1"
        ],
        [
         "445",
         "4.0",
         "First",
         "81.8583",
         "1"
        ],
        [
         "34",
         "28.0",
         "First",
         "82.1708",
         "0"
        ],
        [
         "375",
         "29.69911764705882",
         "First",
         "82.1708",
         "1"
        ],
        [
         "835",
         "39.0",
         "First",
         "83.1583",
         "1"
        ],
        [
         "879",
         "56.0",
         "First",
         "83.1583",
         "1"
        ],
        [
         "310",
         "24.0",
         "First",
         "83.1583",
         "1"
        ],
        [
         "230",
         "35.0",
         "First",
         "83.475",
         "1"
        ],
        [
         "62",
         "45.0",
         "First",
         "83.475",
         "0"
        ],
        [
         "257",
         "30.0",
         "First",
         "86.5",
         "1"
        ],
        [
         "759",
         "33.0",
         "First",
         "86.5",
         "1"
        ],
        [
         "504",
         "16.0",
         "First",
         "86.5",
         "1"
        ],
        [
         "453",
         "49.0",
         "First",
         "89.1042",
         "1"
        ],
        [
         "849",
         "29.69911764705882",
         "First",
         "89.1042",
         "1"
        ],
        [
         "486",
         "35.0",
         "First",
         "90.0",
         "1"
        ],
        [
         "412",
         "33.0",
         "First",
         "90.0",
         "1"
        ],
        [
         "245",
         "44.0",
         "First",
         "90.0",
         "0"
        ],
        [
         "224",
         "38.0",
         "First",
         "90.0",
         "1"
        ],
        [
         "484",
         "25.0",
         "First",
         "91.0792",
         "1"
        ],
        [
         "291",
         "19.0",
         "First",
         "91.0792",
         "1"
        ],
        [
         "820",
         "52.0",
         "First",
         "93.5",
         "1"
        ],
        [
         "520",
         "30.0",
         "First",
         "93.5",
         "1"
        ],
        [
         "537",
         "30.0",
         "First",
         "106.425",
         "1"
        ],
        [
         "544",
         "50.0",
         "First",
         "106.425",
         "0"
        ],
        [
         "307",
         "17.0",
         "First",
         "108.9",
         "1"
        ],
        [
         "505",
         "18.0",
         "First",
         "108.9",
         "0"
        ],
        [
         "306",
         "29.69911764705882",
         "First",
         "110.8833",
         "1"
        ],
        [
         "550",
         "17.0",
         "First",
         "110.8833",
         "1"
        ]
       ],
       "shape": {
        "columns": 4,
        "rows": 97
       }
      },
      "text/html": [
       "<div>\n",
       "<style scoped>\n",
       "    .dataframe tbody tr th:only-of-type {\n",
       "        vertical-align: middle;\n",
       "    }\n",
       "\n",
       "    .dataframe tbody tr th {\n",
       "        vertical-align: top;\n",
       "    }\n",
       "\n",
       "    .dataframe thead th {\n",
       "        text-align: right;\n",
       "    }\n",
       "</style>\n",
       "<table border=\"1\" class=\"dataframe\">\n",
       "  <thead>\n",
       "    <tr style=\"text-align: right;\">\n",
       "      <th></th>\n",
       "      <th>age</th>\n",
       "      <th>class</th>\n",
       "      <th>fare</th>\n",
       "      <th>survived</th>\n",
       "    </tr>\n",
       "  </thead>\n",
       "  <tbody>\n",
       "    <tr>\n",
       "      <th>366</th>\n",
       "      <td>60.0</td>\n",
       "      <td>First</td>\n",
       "      <td>75.2500</td>\n",
       "      <td>1</td>\n",
       "    </tr>\n",
       "    <tr>\n",
       "      <th>218</th>\n",
       "      <td>32.0</td>\n",
       "      <td>First</td>\n",
       "      <td>76.2917</td>\n",
       "      <td>1</td>\n",
       "    </tr>\n",
       "    <tr>\n",
       "      <th>52</th>\n",
       "      <td>49.0</td>\n",
       "      <td>First</td>\n",
       "      <td>76.7292</td>\n",
       "      <td>1</td>\n",
       "    </tr>\n",
       "    <tr>\n",
       "      <th>645</th>\n",
       "      <td>48.0</td>\n",
       "      <td>First</td>\n",
       "      <td>76.7292</td>\n",
       "      <td>1</td>\n",
       "    </tr>\n",
       "    <tr>\n",
       "      <th>681</th>\n",
       "      <td>27.0</td>\n",
       "      <td>First</td>\n",
       "      <td>76.7292</td>\n",
       "      <td>1</td>\n",
       "    </tr>\n",
       "    <tr>\n",
       "      <th>...</th>\n",
       "      <td>...</td>\n",
       "      <td>...</td>\n",
       "      <td>...</td>\n",
       "      <td>...</td>\n",
       "    </tr>\n",
       "    <tr>\n",
       "      <th>27</th>\n",
       "      <td>19.0</td>\n",
       "      <td>First</td>\n",
       "      <td>263.0000</td>\n",
       "      <td>0</td>\n",
       "    </tr>\n",
       "    <tr>\n",
       "      <th>438</th>\n",
       "      <td>64.0</td>\n",
       "      <td>First</td>\n",
       "      <td>263.0000</td>\n",
       "      <td>0</td>\n",
       "    </tr>\n",
       "    <tr>\n",
       "      <th>258</th>\n",
       "      <td>35.0</td>\n",
       "      <td>First</td>\n",
       "      <td>512.3292</td>\n",
       "      <td>1</td>\n",
       "    </tr>\n",
       "    <tr>\n",
       "      <th>679</th>\n",
       "      <td>36.0</td>\n",
       "      <td>First</td>\n",
       "      <td>512.3292</td>\n",
       "      <td>1</td>\n",
       "    </tr>\n",
       "    <tr>\n",
       "      <th>737</th>\n",
       "      <td>35.0</td>\n",
       "      <td>First</td>\n",
       "      <td>512.3292</td>\n",
       "      <td>1</td>\n",
       "    </tr>\n",
       "  </tbody>\n",
       "</table>\n",
       "<p>97 rows × 4 columns</p>\n",
       "</div>"
      ],
      "text/plain": [
       "      age  class      fare  survived\n",
       "366  60.0  First   75.2500         1\n",
       "218  32.0  First   76.2917         1\n",
       "52   49.0  First   76.7292         1\n",
       "645  48.0  First   76.7292         1\n",
       "681  27.0  First   76.7292         1\n",
       "..    ...    ...       ...       ...\n",
       "27   19.0  First  263.0000         0\n",
       "438  64.0  First  263.0000         0\n",
       "258  35.0  First  512.3292         1\n",
       "679  36.0  First  512.3292         1\n",
       "737  35.0  First  512.3292         1\n",
       "\n",
       "[97 rows x 4 columns]"
      ]
     },
     "execution_count": 56,
     "metadata": {},
     "output_type": "execute_result"
    }
   ],
   "source": [
    "# now we use the two filtering at once and than sort the values\n",
    "df_1[(df_1['fare']>74) & (df_1['class']=='First')].sort_values('fare')"
   ]
  }
 ],
 "metadata": {
  "kernelspec": {
   "display_name": "py_eda",
   "language": "python",
   "name": "python3"
  },
  "language_info": {
   "codemirror_mode": {
    "name": "ipython",
    "version": 3
   },
   "file_extension": ".py",
   "mimetype": "text/x-python",
   "name": "python",
   "nbconvert_exporter": "python",
   "pygments_lexer": "ipython3",
   "version": "3.13.1"
  },
  "orig_nbformat": 4
 },
 "nbformat": 4,
 "nbformat_minor": 2
}
