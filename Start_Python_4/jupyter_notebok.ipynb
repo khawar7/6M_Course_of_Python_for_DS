{
 "cells": [
  {
   "cell_type": "code",
   "execution_count": 4,
   "metadata": {},
   "outputs": [
    {
     "name": "stdout",
     "output_type": "stream",
     "text": [
      "10\n"
     ]
    }
   ],
   "source": [
    "x=10\n",
    "print(x)"
   ]
  },
  {
   "cell_type": "code",
   "execution_count": 1,
   "metadata": {},
   "outputs": [
    {
     "name": "stdout",
     "output_type": "stream",
     "text": [
      "10\n"
     ]
    }
   ],
   "source": [
    "import plotly.graph_objects as go\n",
    "\n",
    "# Create random data with numpy\n",
    "import numpy as np\n",
    "\n",
    "x = np.random.randn(500)\n",
    "y = np.random.randn(500)\n",
    "\n",
    "# Plot the scatter plots\n",
    "fig = go.Figure(data=[go.Scatter(\n",
    "    x=x, \n",
    "    y=y\n",
    ")])\n",
    "\n",
    "# Add interactive mode\n",
    "fig.update_layout(\n",
    "    title='Interactive Plot',\n",
    "    xaxis_title='x',\n",
    "    yaxis_title='y')\n",
    "\n",
    "# Show the plot\n",
    "fig.show(renderer=\"browser\")"
   ]
  },
  {
   "cell_type": "code",
   "execution_count": 3,
   "metadata": {},
   "outputs": [],
   "source": [
    "import plotly.graph_objects as go\n",
    "\n",
    "# Create random data with numpy\n",
    "import numpy as np\n",
    "\n",
    "x = np.random.randn(500)\n",
    "y = np.random.randn(500)\n",
    "\n",
    "# Plot the scatter plots\n",
    "fig = go.Figure(data=[go.Scatter(\n",
    "    x=x, \n",
    "    y=y\n",
    ")])\n",
    "\n",
    "# Add interactive mode\n",
    "fig.update_layout(\n",
    "    title='Interactive Plot',\n",
    "    xaxis_title='x',\n",
    "    yaxis_title='y')\n",
    "\n",
    "# Show the plot\n",
    "fig.show(renderer=\"browser\")"
   ]
  }
 ],
 "metadata": {
  "kernelspec": {
   "display_name": "Python 3",
   "language": "python",
   "name": "python3"
  },
  "language_info": {
   "codemirror_mode": {
    "name": "ipython",
    "version": 3
   },
   "file_extension": ".py",
   "mimetype": "text/x-python",
   "name": "python",
   "nbconvert_exporter": "python",
   "pygments_lexer": "ipython3",
   "version": "3.12.1"
  },
  "orig_nbformat": 4
 },
 "nbformat": 4,
 "nbformat_minor": 2
}
